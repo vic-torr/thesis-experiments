{
 "cells": [
  {
   "cell_type": "markdown",
   "metadata": {
    "colab_type": "text",
    "id": "view-in-github"
   },
   "source": [
    "<a href=\"https://colab.research.google.com/github/vic-torr/thesis-experiments/blob/main/experiments/preprocess_forest_from_space.ipynb\" target=\"_parent\"><img src=\"https://colab.research.google.com/assets/colab-badge.svg\" alt=\"Open In Colab\"/></a>"
   ]
  },
  {
   "cell_type": "code",
   "execution_count": 8,
   "metadata": {
    "colab": {
     "base_uri": "https://localhost:8080/"
    },
    "id": "Y2pbhSvzCZo_",
    "outputId": "d014428a-0b5a-4874-9135-5cbf12ffda38"
   },
   "outputs": [
    {
     "name": "stdout",
     "output_type": "stream",
     "text": [
      "Defaulting to user installation because normal site-packages is not writeable\n",
      "Requirement already satisfied: torch in /home/vektor/.local/lib/python3.10/site-packages (1.12.1)\n",
      "Requirement already satisfied: torchvision in /home/vektor/.local/lib/python3.10/site-packages (0.13.1)\n",
      "Requirement already satisfied: sklearn in /home/vektor/.local/lib/python3.10/site-packages (0.0)\n",
      "Requirement already satisfied: typing-extensions in /usr/lib/python3.10/site-packages (from torch) (4.3.0)\n",
      "Requirement already satisfied: numpy in /home/vektor/.local/lib/python3.10/site-packages (from torchvision) (1.22.3)\n",
      "Requirement already satisfied: requests in /usr/lib/python3.10/site-packages (from torchvision) (2.28.1)\n",
      "Requirement already satisfied: pillow!=8.3.*,>=5.3.0 in /usr/lib/python3.10/site-packages (from torchvision) (9.2.0)\n",
      "Requirement already satisfied: scikit-learn in /home/vektor/.local/lib/python3.10/site-packages (from sklearn) (1.1.2)\n",
      "Requirement already satisfied: idna<4,>=2.5 in /usr/lib/python3.10/site-packages (from requests->torchvision) (3.4)\n",
      "Requirement already satisfied: urllib3<1.27,>=1.21.1 in /usr/lib/python3.10/site-packages (from requests->torchvision) (1.26.12)\n",
      "Requirement already satisfied: scipy>=1.3.2 in /home/vektor/.local/lib/python3.10/site-packages (from scikit-learn->sklearn) (1.9.2)\n",
      "Requirement already satisfied: joblib>=1.0.0 in /home/vektor/.local/lib/python3.10/site-packages (from scikit-learn->sklearn) (1.2.0)\n",
      "Requirement already satisfied: threadpoolctl>=2.0.0 in /home/vektor/.local/lib/python3.10/site-packages (from scikit-learn->sklearn) (3.1.0)\n",
      "Note: you may need to restart the kernel to use updated packages.\n"
     ]
    }
   ],
   "source": [
    "pip install torch torchvision sklearn"
   ]
  },
  {
   "cell_type": "code",
   "execution_count": 9,
   "metadata": {
    "id": "WFa_-Kl8tVU3"
   },
   "outputs": [],
   "source": [
    "import pandas as pd\n",
    "import numpy as np # Torch wrapper for Numpy\n",
    "from PIL import Image\n",
    "import os\n",
    "from PIL import Image\n",
    "\n",
    "import torch\n",
    "from torchvision import transforms\n",
    "from torch import nn\n",
    "import torch.nn.functional as F\n",
    "import torch.optim as optim\n",
    "from torch.autograd import Variable\n",
    "\n",
    "from sklearn.preprocessing import MultiLabelBinarizer\n",
    "#env=\"collab\"\n",
    "env=\"local\""
   ]
  },
  {
   "cell_type": "code",
   "execution_count": 10,
   "metadata": {
    "id": "qmMThbAi6aM9"
   },
   "outputs": [],
   "source": [
    "if env==\"collab\":  \n",
    "    #from google.colab import drive\n",
    "    #drive.mount('/content/drive', force_remount=True)\n",
    "    #!ls /content/drive/MyDrive/Colab-Notebooks/datasets/\n",
    "    #!unzip --help\n",
    "    #!unzip /content/drive/MyDrive/Colab-Notebooks/datasets/planet.zip\n",
    "    !ls \"/content/drive/MyDrive/Colab-Notebooks/datasets/planet/test-jpg/test_10046.jpg\"\n",
    "    dataset_dir=\"/content/drive/MyDrive/Colab-Notebooks/datasets/planet/\"\n",
    "    !cp /content/drive/MyDrive/Colab-Notebooks/datasets/planet/test-jpg/test_10046.jpg /content/test.jpg\n",
    "    !ls /content/\n",
    "if env==\"local\":\n",
    "    dataset_dir=\"/home/vektor/partitions/data/UFMG/Thesis/datasets/\""
   ]
  },
  {
   "cell_type": "code",
   "execution_count": 12,
   "metadata": {
    "id": "3O7DGVCjcmVg"
   },
   "outputs": [
    {
     "ename": "FileNotFoundError",
     "evalue": "[Errno 2] No such file or directory: '/content/test.jpg'",
     "output_type": "error",
     "traceback": [
      "\u001b[0;31m---------------------------------------------------------------------------\u001b[0m",
      "\u001b[0;31mFileNotFoundError\u001b[0m                         Traceback (most recent call last)",
      "Cell \u001b[0;32mIn [12], line 1\u001b[0m\n\u001b[0;32m----> 1\u001b[0m im \u001b[38;5;241m=\u001b[39m Image\u001b[38;5;241m.\u001b[39mopen(\u001b[38;5;124mr\u001b[39m\u001b[38;5;124m'\u001b[39m\u001b[38;5;124m/content/test.jpg\u001b[39m\u001b[38;5;124m'\u001b[39m)\n\u001b[1;32m      2\u001b[0m image_file \u001b[38;5;241m=\u001b[39m im\u001b[38;5;241m.\u001b[39mconvert(\u001b[38;5;124m\"\u001b[39m\u001b[38;5;124mRGB\u001b[39m\u001b[38;5;124m\"\u001b[39m)\n",
      "File \u001b[0;32m/usr/lib/python3.10/site-packages/PIL/Image.py:3092\u001b[0m, in \u001b[0;36mopen\u001b[0;34m(fp, mode, formats)\u001b[0m\n\u001b[1;32m   3089\u001b[0m     filename \u001b[38;5;241m=\u001b[39m fp\n\u001b[1;32m   3091\u001b[0m \u001b[38;5;28;01mif\u001b[39;00m filename:\n\u001b[0;32m-> 3092\u001b[0m     fp \u001b[38;5;241m=\u001b[39m \u001b[43mbuiltins\u001b[49m\u001b[38;5;241;43m.\u001b[39;49m\u001b[43mopen\u001b[49m\u001b[43m(\u001b[49m\u001b[43mfilename\u001b[49m\u001b[43m,\u001b[49m\u001b[43m \u001b[49m\u001b[38;5;124;43m\"\u001b[39;49m\u001b[38;5;124;43mrb\u001b[39;49m\u001b[38;5;124;43m\"\u001b[39;49m\u001b[43m)\u001b[49m\n\u001b[1;32m   3093\u001b[0m     exclusive_fp \u001b[38;5;241m=\u001b[39m \u001b[38;5;28;01mTrue\u001b[39;00m\n\u001b[1;32m   3095\u001b[0m \u001b[38;5;28;01mtry\u001b[39;00m:\n",
      "\u001b[0;31mFileNotFoundError\u001b[0m: [Errno 2] No such file or directory: '/content/test.jpg'"
     ]
    }
   ],
   "source": [
    "im = Image.open(r'/content/test.jpg')\n",
    "image_file = im.convert(\"RGB\")"
   ]
  },
  {
   "cell_type": "code",
   "execution_count": null,
   "metadata": {
    "colab": {
     "base_uri": "https://localhost:8080/",
     "height": 273
    },
    "id": "QFWzsfq6cxPH",
    "outputId": "0bf833ab-2ac2-49c0-c9bc-5f6095aad239"
   },
   "outputs": [],
   "source": [
    "display(image_file)"
   ]
  },
  {
   "cell_type": "code",
   "execution_count": null,
   "metadata": {
    "id": "FvFDqEGVz6Mi"
   },
   "outputs": [],
   "source": [
    "\n",
    "for filename in os.listdir(directory):\n",
    "    f = os.path.join(directory, filename)\n",
    "    # checking if it is a file\n",
    "    if os.path.isfile(f):\n",
    "        print(f)"
   ]
  },
  {
   "cell_type": "code",
   "execution_count": null,
   "metadata": {
    "id": "NmJIdadoK0eu"
   },
   "outputs": [],
   "source": [
    "from PIL import Image\n",
    "\n",
    "image = Image.tifffile.imread(r\"/content/drive/MyDrive/Colab-Notebooks/datasets/planet/test-jpg/test_10094.jpg\")\n",
    "image"
   ]
  },
  {
   "cell_type": "code",
   "execution_count": null,
   "metadata": {
    "id": "LpRalqsxSUhq"
   },
   "outputs": [],
   "source": [
    "\n",
    "\n",
    "from PIL import Image\n",
    "import requests\n",
    "\n",
    "url = 'https://huggingface.co/nielsr/convnext-tiny-finetuned-eurostat/resolve/main/forest.png'\n",
    "image = Image.open(requests.get(url, stream=True).raw)\n",
    "image\n",
    "\n"
   ]
  },
  {
   "cell_type": "code",
   "execution_count": null,
   "metadata": {
    "id": "VtNv0YJvgn__"
   },
   "outputs": [],
   "source": [
    "r\"/content/drive/MyDrive/Colab-Notebooks/datasets/planet/test-jpg/test_10094.jpg\""
   ]
  },
  {
   "cell_type": "code",
   "execution_count": null,
   "metadata": {},
   "outputs": [],
   "source": []
  },
  {
   "cell_type": "code",
   "execution_count": null,
   "metadata": {},
   "outputs": [],
   "source": []
  }
 ],
 "metadata": {
  "colab": {
   "authorship_tag": "ABX9TyN+E6VnKA63+QQ0sUJqddZl",
   "collapsed_sections": [],
   "include_colab_link": true,
   "mount_file_id": "1E7s1rjcleMgEs7T2dit3y7G0BfoSaVbO",
   "provenance": []
  },
  "kernelspec": {
   "display_name": "Python 3 (ipykernel)",
   "language": "python",
   "name": "python3"
  },
  "language_info": {
   "codemirror_mode": {
    "name": "ipython",
    "version": 3
   },
   "file_extension": ".py",
   "mimetype": "text/x-python",
   "name": "python",
   "nbconvert_exporter": "python",
   "pygments_lexer": "ipython3",
   "version": "3.10.7"
  }
 },
 "nbformat": 4,
 "nbformat_minor": 1
}
