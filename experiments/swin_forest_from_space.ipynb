{
  "cells": [
    {
      "cell_type": "markdown",
      "metadata": {
        "colab_type": "text",
        "id": "view-in-github"
      },
      "source": [
        "<a href=\"https://colab.research.google.com/github/vic-torr/thesis-experiments/blob/main/experiments/swin_forest_from_space.ipynb\" target=\"_parent\"><img src=\"https://colab.research.google.com/assets/colab-badge.svg\" alt=\"Open In Colab\"/></a>"
      ]
    },
    {
      "cell_type": "markdown",
      "metadata": {
        "id": "7R7FgPDy0Lpi"
      },
      "source": [
        "# Set Environment"
      ]
    },
    {
      "cell_type": "code",
      "execution_count": 39,
      "metadata": {
        "colab": {
          "base_uri": "https://localhost:8080/"
        },
        "id": "qlPfbkZzlJ_G",
        "outputId": "afd365d4-3f8f-4abd-f53e-6e7ced2aa62a"
      },
      "outputs": [],
      "source": [
        "import sys\n",
        "RunningInCOLAB = 'google.colab' in sys.modules\n",
        "\n",
        "if RunningInCOLAB:  \n",
        "    from google.colab import drive\n",
        "    drive.mount('/content/drive', force_remount=True)\n",
        "    #!unzip /content/drive/MyDrive/Colab-Notebooks/datasets/planet.zip -d /content/drive/MyDrive/Colab-Notebooks/datasets/planet\n",
        "    !unzip /content/drive/MyDrive/Colab-Notebooks/datasets/planet.zip -d /content/;\n",
        "    dataset_dir=\"/content/planet/\"\n",
        "    #dataset_dir=\"/content/drive/MyDrive/Colab-Notebooks/datasets/planet/\"\n",
        "else:\n",
        "    home = os.environ['HOME']\n",
        "    dataset_dir= home+\"/UFMG/Thesis/datasets/planet\""
      ]
    },
    {
      "cell_type": "code",
      "execution_count": 40,
      "metadata": {
        "colab": {
          "base_uri": "https://localhost:8080/"
        },
        "id": "Y2pbhSvzCZo_",
        "outputId": "d3f352c2-1cd0-45ab-c035-5fb6029d11f6"
      },
      "outputs": [],
      "source": [
        "if RunningInCOLAB:\n",
        "    %pip install torch torchvision sklearn dill tqdm plotly matplotlib torchinfo virtualenv opencv-python transformers datasets evaluate timm"
      ]
    },
    {
      "cell_type": "code",
      "execution_count": 41,
      "metadata": {
        "colab": {
          "base_uri": "https://localhost:8080/"
        },
        "id": "ayfizw-CuDfy",
        "outputId": "bc47683d-428b-4559-e8bf-91db29841a23"
      },
      "outputs": [
        {
          "name": "stdout",
          "output_type": "stream",
          "text": [
            "device: cpu\n"
          ]
        }
      ],
      "source": [
        "import pandas as pd\n",
        "import numpy as np # Torch wrapper for Numpy\n",
        "from PIL import Image\n",
        "import os\n",
        "\n",
        "import random\n",
        "from time import time\n",
        "from glob import glob\n",
        "from tqdm.notebook import tqdm\n",
        "from collections import Counter\n",
        "import dill as pickle\n",
        "\n",
        "from plotly import graph_objects as go\n",
        "import plotly.express as px\n",
        "import plotly.figure_factory as ff\n",
        "from plotly.subplots import make_subplots\n",
        "\n",
        "from matplotlib import pyplot as plt\n",
        "%matplotlib inline\n",
        "\n",
        "import cv2\n",
        "\n",
        "from sklearn.manifold import TSNE\n",
        "from sklearn.model_selection import train_test_split\n",
        "from sklearn.preprocessing import MultiLabelBinarizer\n",
        "from sklearn.metrics import fbeta_score, confusion_matrix\n",
        "\n",
        "import torch\n",
        "from torchvision import transforms\n",
        "from torch import nn\n",
        "import torch.nn.functional as F\n",
        "import torch.optim as optim\n",
        "from torch.autograd import Variable\n",
        "from torch.utils.data import DataLoader, Dataset\n",
        "from torchvision import transforms as T, models\n",
        "from torch.optim import AdamW, Adam\n",
        "from torch.optim.lr_scheduler import StepLR\n",
        "from torchinfo import summary\n",
        "import timm\n",
        "\n",
        "device = \"cuda\" if torch.cuda.is_available() else \"cpu\"\n",
        "print(f\"device: {device}\")"
      ]
    },
    {
      "cell_type": "code",
      "execution_count": 42,
      "metadata": {
        "id": "ozySfe4T0Lp0"
      },
      "outputs": [],
      "source": [
        "\n",
        "def seed_everything(seed):\n",
        "    \"\"\"\n",
        "    Seeds basic parameters for reproductibility of results\n",
        "    \n",
        "    Arguments:\n",
        "        seed {int} -- Number of the seed\n",
        "    \"\"\"\n",
        "    random.seed(seed)\n",
        "    os.environ[\"PYTHONHASHSEED\"] = str(seed)\n",
        "    np.random.seed(seed)\n",
        "    torch.manual_seed(seed)\n",
        "    torch.cuda.manual_seed(seed)\n",
        "    torch.backends.cudnn.deterministic = True\n",
        "    torch.backends.cudnn.benchmark = False\n",
        "\n",
        "\n",
        "seed_everything(1001)"
      ]
    },
    {
      "cell_type": "code",
      "execution_count": 43,
      "metadata": {
        "colab": {
          "base_uri": "https://localhost:8080/"
        },
        "id": "74ipZquTlJ_W",
        "outputId": "6555a6d2-c008-45f1-fe14-5a03b6855262"
      },
      "outputs": [
        {
          "name": "stdout",
          "output_type": "stream",
          "text": [
            "misc  sample_submission.csv  test-jpg  train_classes.csv  train-jpg\n"
          ]
        }
      ],
      "source": [
        "!ls $dataset_dir"
      ]
    },
    {
      "cell_type": "markdown",
      "metadata": {
        "id": "ddEsH8tA0Lp3"
      },
      "source": [
        "# EDA"
      ]
    },
    {
      "cell_type": "code",
      "execution_count": 44,
      "metadata": {
        "colab": {
          "base_uri": "https://localhost:8080/"
        },
        "id": "Rv9sdalowQ4g",
        "outputId": "7a309346-a305-4792-b08f-5610049f1441"
      },
      "outputs": [
        {
          "name": "stdout",
          "output_type": "stream",
          "text": [
            "train files: 40479, test files: 40669\n"
          ]
        }
      ],
      "source": [
        "path = dataset_dir\n",
        "path_train = os.path.join(path, \"train-jpg\")\n",
        "path_test = os.path.join(path, \"test-jpg\")\n",
        "print(\n",
        "    f\"train files: {len(os.listdir(path_train))}, \"\n",
        "    f\"test files: {len(os.listdir(path_test))}\"\n",
        ")"
      ]
    },
    {
      "cell_type": "code",
      "execution_count": 45,
      "metadata": {
        "colab": {
          "base_uri": "https://localhost:8080/"
        },
        "id": "bxGGEE-dwbQE",
        "outputId": "90faee7f-91eb-4bdd-ccdd-1dee161a6b91"
      },
      "outputs": [
        {
          "name": "stdout",
          "output_type": "stream",
          "text": [
            "40479\n"
          ]
        }
      ],
      "source": [
        "!ls -1 ~/UFMG/Thesis/datasets/planet/train-jpg | wc -l"
      ]
    },
    {
      "cell_type": "code",
      "execution_count": 46,
      "metadata": {
        "colab": {
          "base_uri": "https://localhost:8080/",
          "height": 54
        },
        "id": "3O7DGVCjcmVg",
        "outputId": "52f2cdad-707e-4a54-d820-0face1579823"
      },
      "outputs": [
        {
          "data": {
            "image/png": "[encoded data removed]",
            "text/plain": [
              "<PIL.Image.Image image mode=RGB size=256x256>"
            ]
          },
          "metadata": {},
          "output_type": "display_data"
        }
      ],
      "source": [
        "im = Image.open(path_train+'/train_32.jpg')\n",
        "image_file = im.convert(\"RGB\")\n",
        "display(image_file)"
      ]
    },
    {
      "cell_type": "code",
      "execution_count": 47,
      "metadata": {
        "colab": {
          "base_uri": "https://localhost:8080/",
          "height": 461
        },
        "id": "FvFDqEGVz6Mi",
        "outputId": "e64b90cc-9e43-4a3b-af64-acaac52c5c51"
      },
      "outputs": [
        {
          "name": "stdout",
          "output_type": "stream",
          "text": [
            "(40479, 2)\n"
          ]
        },
        {
          "data": {
            "text/html": [
              "<div>\n",
              "<style scoped>\n",
              "    .dataframe tbody tr th:only-of-type {\n",
              "        vertical-align: middle;\n",
              "    }\n",
              "\n",
              "    .dataframe tbody tr th {\n",
              "        vertical-align: top;\n",
              "    }\n",
              "\n",
              "    .dataframe thead th {\n",
              "        text-align: right;\n",
              "    }\n",
              "</style>\n",
              "<table border=\"1\" class=\"dataframe\">\n",
              "  <thead>\n",
              "    <tr style=\"text-align: right;\">\n",
              "      <th></th>\n",
              "      <th>image_name</th>\n",
              "      <th>tags</th>\n",
              "    </tr>\n",
              "  </thead>\n",
              "  <tbody>\n",
              "    <tr>\n",
              "      <th>0</th>\n",
              "      <td>train_0</td>\n",
              "      <td>haze primary</td>\n",
              "    </tr>\n",
              "    <tr>\n",
              "      <th>1</th>\n",
              "      <td>train_1</td>\n",
              "      <td>agriculture clear primary water</td>\n",
              "    </tr>\n",
              "    <tr>\n",
              "      <th>2</th>\n",
              "      <td>train_2</td>\n",
              "      <td>clear primary</td>\n",
              "    </tr>\n",
              "    <tr>\n",
              "      <th>3</th>\n",
              "      <td>train_3</td>\n",
              "      <td>clear primary</td>\n",
              "    </tr>\n",
              "    <tr>\n",
              "      <th>4</th>\n",
              "      <td>train_4</td>\n",
              "      <td>agriculture clear habitation primary road</td>\n",
              "    </tr>\n",
              "  </tbody>\n",
              "</table>\n",
              "</div>"
            ],
            "text/plain": [
              "  image_name                                       tags\n",
              "0    train_0                               haze primary\n",
              "1    train_1            agriculture clear primary water\n",
              "2    train_2                              clear primary\n",
              "3    train_3                              clear primary\n",
              "4    train_4  agriculture clear habitation primary road"
            ]
          },
          "execution_count": 47,
          "metadata": {},
          "output_type": "execute_result"
        }
      ],
      "source": [
        "path_class = os.path.join(path, \"train_classes.csv\")\n",
        "df_class = pd.read_csv(path_class)\n",
        "print(df_class.shape)\n",
        "df_class.head()"
      ]
    },
    {
      "cell_type": "code",
      "execution_count": 48,
      "metadata": {
        "colab": {
          "base_uri": "https://localhost:8080/",
          "height": 562
        },
        "id": "NmJIdadoK0eu",
        "outputId": "f392d3d5-1799-4a7e-f78e-09dd8cc2a951"
      },
      "outputs": [
        {
          "data": {
            "application/vnd.plotly.v1+json": {
              "config": {
                "plotlyServerURL": "https://plot.ly"
              },
              "data": [
                {
                  "alignmentgroup": "True",
                  "hovertemplate": "total=%{marker.color}<br>tag=%{y}<extra></extra>",
                  "legendgroup": "",
                  "marker": {
                    "color": [
                      100,
                      101,
                      209,
                      332,
                      339,
                      340,
                      862,
                      2089,
                      2697,
                      3660,
                      4547,
                      7261,
                      7411,
                      8071,
                      12315,
                      28431,
                      37513
                    ],
                    "coloraxis": "coloraxis",
                    "pattern": {
                      "shape": ""
                    }
                  },
                  "name": "",
                  "offsetgroup": "",
                  "orientation": "h",
                  "showlegend": false,
                  "textposition": "auto",
                  "type": "bar",
                  "x": [
                    100,
                    101,
                    209,
                    332,
                    339,
                    340,
                    862,
                    2089,
                    2697,
                    3660,
                    4547,
                    7261,
                    7411,
                    8071,
                    12315,
                    28431,
                    37513
                  ],
                  "xaxis": "x",
                  "y": [
                    "conventional_mine",
                    "blow_down",
                    "slash_burn",
                    "blooming",
                    "artisinal_mine",
                    "selective_logging",
                    "bare_ground",
                    "cloudy",
                    "haze",
                    "habitation",
                    "cultivation",
                    "partly_cloudy",
                    "water",
                    "road",
                    "agriculture",
                    "clear",
                    "primary"
                  ],
                  "yaxis": "y"
                }
              ],
              "layout": {
                "barmode": "relative",
                "coloraxis": {
                  "colorbar": {
                    "title": {
                      "text": "total"
                    }
                  },
                  "colorscale": [
                    [
                      0,
                      "#0d0887"
                    ],
                    [
                      0.1111111111111111,
                      "#46039f"
                    ],
                    [
                      0.2222222222222222,
                      "#7201a8"
                    ],
                    [
                      0.3333333333333333,
                      "#9c179e"
                    ],
                    [
                      0.4444444444444444,
                      "#bd3786"
                    ],
                    [
                      0.5555555555555556,
                      "#d8576b"
                    ],
                    [
                      0.6666666666666666,
                      "#ed7953"
                    ],
                    [
                      0.7777777777777778,
                      "#fb9f3a"
                    ],
                    [
                      0.8888888888888888,
                      "#fdca26"
                    ],
                    [
                      1,
                      "#f0f921"
                    ]
                  ]
                },
                "legend": {
                  "tracegroupgap": 0
                },
                "margin": {
                  "t": 60
                },
                "template": {
                  "data": {
                    "bar": [
                      {
                        "error_x": {
                          "color": "#2a3f5f"
                        },
                        "error_y": {
                          "color": "#2a3f5f"
                        },
                        "marker": {
                          "line": {
                            "color": "#E5ECF6",
                            "width": 0.5
                          },
                          "pattern": {
                            "fillmode": "overlay",
                            "size": 10,
                            "solidity": 0.2
                          }
                        },
                        "type": "bar"
                      }
                    ],
                    "barpolar": [
                      {
                        "marker": {
                          "line": {
                            "color": "#E5ECF6",
                            "width": 0.5
                          },
                          "pattern": {
                            "fillmode": "overlay",
                            "size": 10,
                            "solidity": 0.2
                          }
                        },
                        "type": "barpolar"
                      }
                    ],
                    "carpet": [
                      {
                        "aaxis": {
                          "endlinecolor": "#2a3f5f",
                          "gridcolor": "white",
                          "linecolor": "white",
                          "minorgridcolor": "white",
                          "startlinecolor": "#2a3f5f"
                        },
                        "baxis": {
                          "endlinecolor": "#2a3f5f",
                          "gridcolor": "white",
                          "linecolor": "white",
                          "minorgridcolor": "white",
                          "startlinecolor": "#2a3f5f"
                        },
                        "type": "carpet"
                      }
                    ],
                    "choropleth": [
                      {
                        "colorbar": {
                          "outlinewidth": 0,
                          "ticks": ""
                        },
                        "type": "choropleth"
                      }
                    ],
                    "contour": [
                      {
                        "colorbar": {
                          "outlinewidth": 0,
                          "ticks": ""
                        },
                        "colorscale": [
                          [
                            0,
                            "#0d0887"
                          ],
                          [
                            0.1111111111111111,
                            "#46039f"
                          ],
                          [
                            0.2222222222222222,
                            "#7201a8"
                          ],
                          [
                            0.3333333333333333,
                            "#9c179e"
                          ],
                          [
                            0.4444444444444444,
                            "#bd3786"
                          ],
                          [
                            0.5555555555555556,
                            "#d8576b"
                          ],
                          [
                            0.6666666666666666,
                            "#ed7953"
                          ],
                          [
                            0.7777777777777778,
                            "#fb9f3a"
                          ],
                          [
                            0.8888888888888888,
                            "#fdca26"
                          ],
                          [
                            1,
                            "#f0f921"
                          ]
                        ],
                        "type": "contour"
                      }
                    ],
                    "contourcarpet": [
                      {
                        "colorbar": {
                          "outlinewidth": 0,
                          "ticks": ""
                        },
                        "type": "contourcarpet"
                      }
                    ],
                    "heatmap": [
                      {
                        "colorbar": {
                          "outlinewidth": 0,
                          "ticks": ""
                        },
                        "colorscale": [
                          [
                            0,
                            "#0d0887"
                          ],
                          [
                            0.1111111111111111,
                            "#46039f"
                          ],
                          [
                            0.2222222222222222,
                            "#7201a8"
                          ],
                          [
                            0.3333333333333333,
                            "#9c179e"
                          ],
                          [
                            0.4444444444444444,
                            "#bd3786"
                          ],
                          [
                            0.5555555555555556,
                            "#d8576b"
                          ],
                          [
                            0.6666666666666666,
                            "#ed7953"
                          ],
                          [
                            0.7777777777777778,
                            "#fb9f3a"
                          ],
                          [
                            0.8888888888888888,
                            "#fdca26"
                          ],
                          [
                            1,
                            "#f0f921"
                          ]
                        ],
                        "type": "heatmap"
                      }
                    ],
                    "heatmapgl": [
                      {
                        "colorbar": {
                          "outlinewidth": 0,
                          "ticks": ""
                        },
                        "colorscale": [
                          [
                            0,
                            "#0d0887"
                          ],
                          [
                            0.1111111111111111,
                            "#46039f"
                          ],
                          [
                            0.2222222222222222,
                            "#7201a8"
                          ],
                          [
                            0.3333333333333333,
                            "#9c179e"
                          ],
                          [
                            0.4444444444444444,
                            "#bd3786"
                          ],
                          [
                            0.5555555555555556,
                            "#d8576b"
                          ],
                          [
                            0.6666666666666666,
                            "#ed7953"
                          ],
                          [
                            0.7777777777777778,
                            "#fb9f3a"
                          ],
                          [
                            0.8888888888888888,
                            "#fdca26"
                          ],
                          [
                            1,
                            "#f0f921"
                          ]
                        ],
                        "type": "heatmapgl"
                      }
                    ],
                    "histogram": [
                      {
                        "marker": {
                          "pattern": {
                            "fillmode": "overlay",
                            "size": 10,
                            "solidity": 0.2
                          }
                        },
                        "type": "histogram"
                      }
                    ],
                    "histogram2d": [
                      {
                        "colorbar": {
                          "outlinewidth": 0,
                          "ticks": ""
                        },
                        "colorscale": [
                          [
                            0,
                            "#0d0887"
                          ],
                          [
                            0.1111111111111111,
                            "#46039f"
                          ],
                          [
                            0.2222222222222222,
                            "#7201a8"
                          ],
                          [
                            0.3333333333333333,
                            "#9c179e"
                          ],
                          [
                            0.4444444444444444,
                            "#bd3786"
                          ],
                          [
                            0.5555555555555556,
                            "#d8576b"
                          ],
                          [
                            0.6666666666666666,
                            "#ed7953"
                          ],
                          [
                            0.7777777777777778,
                            "#fb9f3a"
                          ],
                          [
                            0.8888888888888888,
                            "#fdca26"
                          ],
                          [
                            1,
                            "#f0f921"
                          ]
                        ],
                        "type": "histogram2d"
                      }
                    ],
                    "histogram2dcontour": [
                      {
                        "colorbar": {
                          "outlinewidth": 0,
                          "ticks": ""
                        },
                        "colorscale": [
                          [
                            0,
                            "#0d0887"
                          ],
                          [
                            0.1111111111111111,
                            "#46039f"
                          ],
                          [
                            0.2222222222222222,
                            "#7201a8"
                          ],
                          [
                            0.3333333333333333,
                            "#9c179e"
                          ],
                          [
                            0.4444444444444444,
                            "#bd3786"
                          ],
                          [
                            0.5555555555555556,
                            "#d8576b"
                          ],
                          [
                            0.6666666666666666,
                            "#ed7953"
                          ],
                          [
                            0.7777777777777778,
                            "#fb9f3a"
                          ],
                          [
                            0.8888888888888888,
                            "#fdca26"
                          ],
                          [
                            1,
                            "#f0f921"
                          ]
                        ],
                        "type": "histogram2dcontour"
                      }
                    ],
                    "mesh3d": [
                      {
                        "colorbar": {
                          "outlinewidth": 0,
                          "ticks": ""
                        },
                        "type": "mesh3d"
                      }
                    ],
                    "parcoords": [
                      {
                        "line": {
                          "colorbar": {
                            "outlinewidth": 0,
                            "ticks": ""
                          }
                        },
                        "type": "parcoords"
                      }
                    ],
                    "pie": [
                      {
                        "automargin": true,
                        "type": "pie"
                      }
                    ],
                    "scatter": [
                      {
                        "fillpattern": {
                          "fillmode": "overlay",
                          "size": 10,
                          "solidity": 0.2
                        },
                        "type": "scatter"
                      }
                    ],
                    "scatter3d": [
                      {
                        "line": {
                          "colorbar": {
                            "outlinewidth": 0,
                            "ticks": ""
                          }
                        },
                        "marker": {
                          "colorbar": {
                            "outlinewidth": 0,
                            "ticks": ""
                          }
                        },
                        "type": "scatter3d"
                      }
                    ],
                    "scattercarpet": [
                      {
                        "marker": {
                          "colorbar": {
                            "outlinewidth": 0,
                            "ticks": ""
                          }
                        },
                        "type": "scattercarpet"
                      }
                    ],
                    "scattergeo": [
                      {
                        "marker": {
                          "colorbar": {
                            "outlinewidth": 0,
                            "ticks": ""
                          }
                        },
                        "type": "scattergeo"
                      }
                    ],
                    "scattergl": [
                      {
                        "marker": {
                          "colorbar": {
                            "outlinewidth": 0,
                            "ticks": ""
                          }
                        },
                        "type": "scattergl"
                      }
                    ],
                    "scattermapbox": [
                      {
                        "marker": {
                          "colorbar": {
                            "outlinewidth": 0,
                            "ticks": ""
                          }
                        },
                        "type": "scattermapbox"
                      }
                    ],
                    "scatterpolar": [
                      {
                        "marker": {
                          "colorbar": {
                            "outlinewidth": 0,
                            "ticks": ""
                          }
                        },
                        "type": "scatterpolar"
                      }
                    ],
                    "scatterpolargl": [
                      {
                        "marker": {
                          "colorbar": {
                            "outlinewidth": 0,
                            "ticks": ""
                          }
                        },
                        "type": "scatterpolargl"
                      }
                    ],
                    "scatterternary": [
                      {
                        "marker": {
                          "colorbar": {
                            "outlinewidth": 0,
                            "ticks": ""
                          }
                        },
                        "type": "scatterternary"
                      }
                    ],
                    "surface": [
                      {
                        "colorbar": {
                          "outlinewidth": 0,
                          "ticks": ""
                        },
                        "colorscale": [
                          [
                            0,
                            "#0d0887"
                          ],
                          [
                            0.1111111111111111,
                            "#46039f"
                          ],
                          [
                            0.2222222222222222,
                            "#7201a8"
                          ],
                          [
                            0.3333333333333333,
                            "#9c179e"
                          ],
                          [
                            0.4444444444444444,
                            "#bd3786"
                          ],
                          [
                            0.5555555555555556,
                            "#d8576b"
                          ],
                          [
                            0.6666666666666666,
                            "#ed7953"
                          ],
                          [
                            0.7777777777777778,
                            "#fb9f3a"
                          ],
                          [
                            0.8888888888888888,
                            "#fdca26"
                          ],
                          [
                            1,
                            "#f0f921"
                          ]
                        ],
                        "type": "surface"
                      }
                    ],
                    "table": [
                      {
                        "cells": {
                          "fill": {
                            "color": "#EBF0F8"
                          },
                          "line": {
                            "color": "white"
                          }
                        },
                        "header": {
                          "fill": {
                            "color": "#C8D4E3"
                          },
                          "line": {
                            "color": "white"
                          }
                        },
                        "type": "table"
                      }
                    ]
                  },
                  "layout": {
                    "annotationdefaults": {
                      "arrowcolor": "#2a3f5f",
                      "arrowhead": 0,
                      "arrowwidth": 1
                    },
                    "autotypenumbers": "strict",
                    "coloraxis": {
                      "colorbar": {
                        "outlinewidth": 0,
                        "ticks": ""
                      }
                    },
                    "colorscale": {
                      "diverging": [
                        [
                          0,
                          "#8e0152"
                        ],
                        [
                          0.1,
                          "#c51b7d"
                        ],
                        [
                          0.2,
                          "#de77ae"
                        ],
                        [
                          0.3,
                          "#f1b6da"
                        ],
                        [
                          0.4,
                          "#fde0ef"
                        ],
                        [
                          0.5,
                          "#f7f7f7"
                        ],
                        [
                          0.6,
                          "#e6f5d0"
                        ],
                        [
                          0.7,
                          "#b8e186"
                        ],
                        [
                          0.8,
                          "#7fbc41"
                        ],
                        [
                          0.9,
                          "#4d9221"
                        ],
                        [
                          1,
                          "#276419"
                        ]
                      ],
                      "sequential": [
                        [
                          0,
                          "#0d0887"
                        ],
                        [
                          0.1111111111111111,
                          "#46039f"
                        ],
                        [
                          0.2222222222222222,
                          "#7201a8"
                        ],
                        [
                          0.3333333333333333,
                          "#9c179e"
                        ],
                        [
                          0.4444444444444444,
                          "#bd3786"
                        ],
                        [
                          0.5555555555555556,
                          "#d8576b"
                        ],
                        [
                          0.6666666666666666,
                          "#ed7953"
                        ],
                        [
                          0.7777777777777778,
                          "#fb9f3a"
                        ],
                        [
                          0.8888888888888888,
                          "#fdca26"
                        ],
                        [
                          1,
                          "#f0f921"
                        ]
                      ],
                      "sequentialminus": [
                        [
                          0,
                          "#0d0887"
                        ],
                        [
                          0.1111111111111111,
                          "#46039f"
                        ],
                        [
                          0.2222222222222222,
                          "#7201a8"
                        ],
                        [
                          0.3333333333333333,
                          "#9c179e"
                        ],
                        [
                          0.4444444444444444,
                          "#bd3786"
                        ],
                        [
                          0.5555555555555556,
                          "#d8576b"
                        ],
                        [
                          0.6666666666666666,
                          "#ed7953"
                        ],
                        [
                          0.7777777777777778,
                          "#fb9f3a"
                        ],
                        [
                          0.8888888888888888,
                          "#fdca26"
                        ],
                        [
                          1,
                          "#f0f921"
                        ]
                      ]
                    },
                    "colorway": [
                      "#636efa",
                      "#EF553B",
                      "#00cc96",
                      "#ab63fa",
                      "#FFA15A",
                      "#19d3f3",
                      "#FF6692",
                      "#B6E880",
                      "#FF97FF",
                      "#FECB52"
                    ],
                    "font": {
                      "color": "#2a3f5f"
                    },
                    "geo": {
                      "bgcolor": "white",
                      "lakecolor": "white",
                      "landcolor": "#E5ECF6",
                      "showlakes": true,
                      "showland": true,
                      "subunitcolor": "white"
                    },
                    "hoverlabel": {
                      "align": "left"
                    },
                    "hovermode": "closest",
                    "mapbox": {
                      "style": "light"
                    },
                    "paper_bgcolor": "white",
                    "plot_bgcolor": "#E5ECF6",
                    "polar": {
                      "angularaxis": {
                        "gridcolor": "white",
                        "linecolor": "white",
                        "ticks": ""
                      },
                      "bgcolor": "#E5ECF6",
                      "radialaxis": {
                        "gridcolor": "white",
                        "linecolor": "white",
                        "ticks": ""
                      }
                    },
                    "scene": {
                      "xaxis": {
                        "backgroundcolor": "#E5ECF6",
                        "gridcolor": "white",
                        "gridwidth": 2,
                        "linecolor": "white",
                        "showbackground": true,
                        "ticks": "",
                        "zerolinecolor": "white"
                      },
                      "yaxis": {
                        "backgroundcolor": "#E5ECF6",
                        "gridcolor": "white",
                        "gridwidth": 2,
                        "linecolor": "white",
                        "showbackground": true,
                        "ticks": "",
                        "zerolinecolor": "white"
                      },
                      "zaxis": {
                        "backgroundcolor": "#E5ECF6",
                        "gridcolor": "white",
                        "gridwidth": 2,
                        "linecolor": "white",
                        "showbackground": true,
                        "ticks": "",
                        "zerolinecolor": "white"
                      }
                    },
                    "shapedefaults": {
                      "line": {
                        "color": "#2a3f5f"
                      }
                    },
                    "ternary": {
                      "aaxis": {
                        "gridcolor": "white",
                        "linecolor": "white",
                        "ticks": ""
                      },
                      "baxis": {
                        "gridcolor": "white",
                        "linecolor": "white",
                        "ticks": ""
                      },
                      "bgcolor": "#E5ECF6",
                      "caxis": {
                        "gridcolor": "white",
                        "linecolor": "white",
                        "ticks": ""
                      }
                    },
                    "title": {
                      "x": 0.05
                    },
                    "xaxis": {
                      "automargin": true,
                      "gridcolor": "white",
                      "linecolor": "white",
                      "ticks": "",
                      "title": {
                        "standoff": 15
                      },
                      "zerolinecolor": "white",
                      "zerolinewidth": 2
                    },
                    "yaxis": {
                      "automargin": true,
                      "gridcolor": "white",
                      "linecolor": "white",
                      "ticks": "",
                      "title": {
                        "standoff": 15
                      },
                      "zerolinecolor": "white",
                      "zerolinewidth": 2
                    }
                  }
                },
                "title": {
                  "text": "Class distribution"
                },
                "xaxis": {
                  "anchor": "y",
                  "domain": [
                    0,
                    1
                  ],
                  "title": {
                    "text": "total"
                  }
                },
                "yaxis": {
                  "anchor": "x",
                  "domain": [
                    0,
                    1
                  ],
                  "title": {
                    "text": "tag"
                  }
                }
              }
            }
          },
          "metadata": {},
          "output_type": "display_data"
        }
      ],
      "source": [
        "df_class[\"list_tags\"] = df_class.tags.str.split(\" \")\n",
        "row_tags = df_class.list_tags.values\n",
        "tags = [tag for row in row_tags for tag in row]\n",
        "counter_tags = Counter(tags)\n",
        "df_tags = pd.DataFrame(\n",
        "    {\"tag\": counter_tags.keys(), \"total\": counter_tags.values()}\n",
        ").sort_values(\"total\")\n",
        "\n",
        "fig = px.bar(df_tags, x=\"total\", y=\"tag\", orientation=\"h\", \n",
        "             color=\"total\",\n",
        ")\n",
        "fig.update_layout(title=\"Class distribution\")\n",
        "fig.show()"
      ]
    },
    {
      "cell_type": "code",
      "execution_count": 49,
      "metadata": {
        "id": "LpRalqsxSUhq"
      },
      "outputs": [],
      "source": [
        "RARE_CLASSES = [\n",
        "    \"bare_ground\", \"selective_logging\", \"artisinal_mine\", \"blooming\", \"slash_burn\", \"blow_down\", \"conventional_mine\"\n",
        "]"
      ]
    },
    {
      "cell_type": "code",
      "execution_count": 50,
      "metadata": {
        "colab": {
          "base_uri": "https://localhost:8080/"
        },
        "id": "xgxUyE9U0Lp_",
        "outputId": "6893528c-bde1-45df-dc54-6b0a1d1aaf01"
      },
      "outputs": [
        {
          "name": "stdout",
          "output_type": "stream",
          "text": [
            "train bare_ground: 2.1431% (694)\n",
            "val bare_ground: 2.0751% (168)\n",
            "\n",
            "train selective_logging: 0.8399% (272)\n",
            "val selective_logging: 0.8399% (68)\n",
            "\n",
            "train artisinal_mine: 0.8152% (264)\n",
            "val artisinal_mine: 0.9264% (75)\n",
            "\n",
            "train blooming: 0.8461% (274)\n",
            "val blooming: 0.7164% (58)\n",
            "\n",
            "train slash_burn: 0.5373% (174)\n",
            "val slash_burn: 0.4323% (35)\n",
            "\n",
            "train blow_down: 0.2501% (81)\n",
            "val blow_down: 0.2100% (17)\n",
            "\n",
            "train conventional_mine: 0.2378% (77)\n",
            "val conventional_mine: 0.2841% (23)\n",
            "\n"
          ]
        }
      ],
      "source": [
        "df_train, df_val = train_test_split(df_class, test_size=.2)\n",
        "\n",
        "for rare_class in RARE_CLASSES:\n",
        "    total_train = df_train.loc[df_train.tags.str.contains(rare_class)].shape[0]\n",
        "    total_val = df_val.loc[df_val.tags.str.contains(rare_class)].shape[0]\n",
        "    print(f\"train {rare_class}: {100 * total_train / df_train.shape[0]:.4f}% ({total_train})\")\n",
        "    print(f\"val {rare_class}: {100 * total_val / df_val.shape[0]:.4f}% ({total_val})\\n\")"
      ]
    },
    {
      "cell_type": "code",
      "execution_count": 51,
      "metadata": {
        "colab": {
          "base_uri": "https://localhost:8080/",
          "height": 54
        },
        "id": "VtNv0YJvgn__",
        "outputId": "6eb7e911-70e8-49d7-c2c1-0cb634b81534"
      },
      "outputs": [],
      "source": [
        "all_tags = list(set(tags))\n",
        "N_tags = len(all_tags)\n",
        "fig, axes = plt.subplots(4, (N_tags//4)+1, figsize=(20, 20))\n",
        "for idx, tag in enumerate(all_tags):\n",
        "    filename = df_class.loc[df_class.tags.str.contains(tag)].image_name.values[0]\n",
        "    img = cv2.imread(os.path.join(path_train, filename+\".jpg\"))\n",
        "    img = cv2.cvtColor(img, cv2.COLOR_BGR2RGB)\n",
        "    idx_col = idx // 4\n",
        "    idx_row = idx % 4\n",
        "    axes[idx_row][idx_col].set_title(tag)\n",
        "    axes[idx_row][idx_col].imshow(img)\n",
        "axes[1][-1].remove()\n",
        "axes[2][-1].remove()\n",
        "axes[3][-1].remove()"
      ]
    },
    {
      "cell_type": "code",
      "execution_count": null,
      "metadata": {
        "id": "J4B833MuuDgi"
      },
      "outputs": [],
      "source": [
        "def load_img(path_file):\n",
        "    img = cv2.imread(path_file)\n",
        "    img = cv2.cvtColor(img, cv2.COLOR_BGR2RGB)\n",
        "    img = cv2.resize(img, (100, 100), cv2.INTER_LINEAR).astype(float)\n",
        "    img = cv2.normalize(img, None, 0.0, 1.0, cv2.NORM_MINMAX)\n",
        "    img = img.reshape(1, -1)\n",
        "    return img"
      ]
    },
    {
      "cell_type": "code",
      "execution_count": null,
      "metadata": {
        "colab": {
          "base_uri": "https://localhost:8080/"
        },
        "id": "xHaNDRQ4uDgs",
        "outputId": "ec5a73fa-7904-4d46-e7c8-25cf228fe664"
      },
      "outputs": [
        {
          "data": {
            "text/plain": [
              "(600, 30000)"
            ]
          },
          "execution_count": 15,
          "metadata": {},
          "output_type": "execute_result"
        }
      ],
      "source": [
        "filenames = df_class.image_name.sample(600).values\n",
        "path_files = [os.path.join(path_train, filename+\".jpg\") for filename in filenames]\n",
        "X_train_sample = np.vstack([load_img(path_file) for path_file in path_files])\n",
        "X_train_sample.shape"
      ]
    },
    {
      "cell_type": "code",
      "execution_count": null,
      "metadata": {
        "id": "L5uPlujMuDg5"
      },
      "outputs": [],
      "source": [
        "def fetch_img(path_file, h, w):\n",
        "    img = cv2.imread(path_file)\n",
        "    img = cv2.cvtColor(img, cv2.COLOR_BGR2RGB)\n",
        "    img = cv2.resize(img, (h*2, w*2), cv2.INTER_LINEAR)\n",
        "    return img"
      ]
    },
    {
      "cell_type": "code",
      "execution_count": null,
      "metadata": {
        "id": "ev8b3DzpuDg8"
      },
      "outputs": [],
      "source": [
        "def tsne_analysis():\n",
        "\n",
        "    tsne = TSNE(\n",
        "        n_components=2,\n",
        "        init=\"random\",\n",
        "        random_state=101,\n",
        "        method=\"barnes_hut\",\n",
        "        n_iter=500,\n",
        "        verbose=2,\n",
        "    )\n",
        "    X_embedded = tsne.fit_transform(X_train_sample)\n",
        "    X_embedded.shape\n",
        "\n",
        "    size_img = 1000\n",
        "    offset_img = 50\n",
        "    h = w = int(offset_img / 2)\n",
        "\n",
        "    X_scaled = (X_embedded - X_embedded.min(0)) / (X_embedded.max(0) - X_embedded.min(0))\n",
        "    X_scaled = (X_scaled * size_img).astype(int)\n",
        "    X_scaled = np.clip(X_scaled, offset_img, size_img-offset_img)\n",
        "\n",
        "    img_tsne = np.ones((size_img+2*offset_img, size_img+2*offset_img, 3), dtype=np.uint8) * 255\n",
        "    for idx in range(X_scaled.shape[0]):\n",
        "        x, y = X_scaled[idx][0], X_scaled[idx][1]\n",
        "        img = fetch_img(path_files[idx], h, w)\n",
        "        img_tsne[x-w:x+w, y-h:y+h, :] = img\n",
        "\n",
        "    fig = plt.figure(figsize=(12, 12))\n",
        "    plt.imshow(img_tsne);\n",
        "    plt.axis(\"off\");\n",
        "#tsne_analysis()    "
      ]
    },
    {
      "cell_type": "markdown",
      "metadata": {
        "id": "IFlVwBvw0LqC"
      },
      "source": [
        "# Config"
      ]
    },
    {
      "cell_type": "code",
      "execution_count": null,
      "metadata": {
        "id": "lMIuFAHl0LqD"
      },
      "outputs": [],
      "source": [
        "BATCH_SIZE = 4\n",
        "if RunningInCOLAB:\n",
        "    BATCH_SIZE = 32\n",
        "IMG_SIZE = 224\n",
        "LR = 1e-4\n",
        "LR_STEP_SIZE = 7\n",
        "GAMMA = 0.1\n",
        "N_EPOCHS = 14"
      ]
    },
    {
      "cell_type": "markdown",
      "metadata": {
        "id": "K1yn3eXP0LqD"
      },
      "source": [
        "# Dataset prep"
      ]
    },
    {
      "cell_type": "code",
      "execution_count": null,
      "metadata": {
        "id": "6C8u-bTwuDhF"
      },
      "outputs": [],
      "source": [
        "\n",
        "def transform1(img):\n",
        "    return T.Compose([\n",
        "      T.ToTensor(),\n",
        "      F.interpolate(img, size=224, mode='bicubic'),\n",
        "      T.Normalize(\n",
        "          mean=[0.485, 0.456, 0.406],\n",
        "          std=[0.229, 0.224, 0.225],\n",
        "      )\n",
        "    ])\n",
        "    \n",
        "# create image augmentations\n",
        "transform_train = transforms.Compose(\n",
        "    [\n",
        "        #transforms.Resize((IMG_SIZE, IMG_SIZE),interpolation=transforms.InterpolationMode.BICUBIC),\n",
        "        transforms.Resize((IMG_SIZE, IMG_SIZE)),\n",
        "        transforms.RandomHorizontalFlip(p=0.3),\n",
        "        transforms.RandomVerticalFlip(p=0.3),\n",
        "        transforms.RandomResizedCrop(IMG_SIZE),\n",
        "        transforms.ToTensor(),\n",
        "      T.Normalize(\n",
        "          mean=[0.485, 0.456, 0.406],\n",
        "          std=[0.229, 0.224, 0.225],\n",
        "      )\n",
        "    ]\n",
        ")\n",
        "\n",
        "transform_val = transforms.Compose(\n",
        "    [\n",
        "        transforms.Resize((IMG_SIZE, IMG_SIZE),interpolation=transforms.InterpolationMode.BICUBIC),\n",
        "        transforms.ToTensor(),\n",
        "      T.Normalize(\n",
        "          mean=[0.485, 0.456, 0.406],\n",
        "          std=[0.229, 0.224, 0.225],\n",
        "      )\n",
        "    ]\n",
        ")\n",
        "\n",
        "#    return transform_train, transform_val\n",
        "\n"
      ]
    },
    {
      "cell_type": "code",
      "execution_count": null,
      "metadata": {
        "id": "CpPReVzluDhS"
      },
      "outputs": [],
      "source": [
        "class AmazonDatasetError(Exception):\n",
        "    pass\n",
        "\n",
        "\n",
        "class AmazonDataset(Dataset):\n",
        "    def __init__(self, df, ohe_tags, transform, path, is_train=True, idx_tta=None):\n",
        "        super().__init__()\n",
        "        self.df = df\n",
        "        self.ohe_tags = ohe_tags\n",
        "        self.transform = transform_train\n",
        "        if isinstance(path, str):\n",
        "            self.paths = [path]\n",
        "        elif isinstance(path, (list, tuple)):\n",
        "            self.paths = path\n",
        "        else:\n",
        "            raise AmazonDatasetError(f\"Path type must be str, list or tuple, got: {type(path)}\")\n",
        "        self.is_train = is_train\n",
        "        if not is_train:\n",
        "            if not idx_tta in list(range(6)):\n",
        "                raise AmazonDatasetError(\n",
        "                    f\"In test mode, 'idx_tta' must be an int belonging to [0, 5], got: {repr(idx_tta)}\"\n",
        "                )\n",
        "            self.idx_tta = idx_tta\n",
        "\n",
        "    def __len__(self):\n",
        "        return len(self.df)\n",
        "\n",
        "    def __getitem__(self, idx):\n",
        "        filename = self.df.iloc[idx].image_name + \".jpg\"\n",
        "        for path in self.paths:\n",
        "            if filename in os.listdir(path):\n",
        "                file_path = os.path.join(path, filename)\n",
        "                break\n",
        "        else:\n",
        "            raise AmazonDatasetError(f\"Can't fetch {filename} among {self.paths}\")\n",
        "        #image = cv2.imread(file_path)\n",
        "        #image = cv2.cvtColor(img, cv2.COLOR_BGR2RGB)\n",
        "        image = Image.open(file_path).convert(\"RGB\")\n",
        "        label = self.ohe_tags[idx]\n",
        "        return image, label\n",
        "\n",
        "    def collate_fn(self, batch):\n",
        "        imgs, labels = [], []\n",
        "        for (img, label) in batch:\n",
        "            img = self.transform(img)\n",
        "            img.permute(2, 0, 1)\n",
        "            imgs.append(img[None])\n",
        "            labels.append(label)\n",
        "        imgs = torch.cat(imgs).float().to(device)\n",
        "        labels = torch.tensor(labels).float().to(device)\n",
        "        return imgs, labels\n",
        "\n",
        "    def load_img(self, idx, ax=None):\n",
        "        img, ohe_label = self[idx]\n",
        "        label = self.df.iloc[idx].tags\n",
        "        title = f\"{label} - {ohe_label} - {self.transform(img).shape}\"\n",
        "        if ax is None:\n",
        "            plt.imshow(img)\n",
        "            plt.title(title)\n",
        "        else:\n",
        "            ax.imshow(img)\n",
        "            ax.set_title(title)\n",
        "        \n",
        "    \n"
      ]
    },
    {
      "cell_type": "code",
      "execution_count": null,
      "metadata": {
        "id": "d5w0J_CbuDhe"
      },
      "outputs": [],
      "source": [
        "def get_data(df_train, df_val):\n",
        "\n",
        "    encoder = MultiLabelBinarizer()\n",
        "    ohe_tags_train = encoder.fit_transform(df_train.list_tags.values)\n",
        "    ohe_tags_val = encoder.transform(df_val.list_tags.values)\n",
        "\n",
        "    ds_train = AmazonDataset(df_train, ohe_tags_train, transform_train, path=path_train)\n",
        "    ds_val = AmazonDataset(df_val, ohe_tags_val, transform_val, path=path_train)\n",
        "\n",
        "    dl_train = DataLoader(\n",
        "      ds_train,\n",
        "      batch_size=BATCH_SIZE,\n",
        "      shuffle=True,\n",
        "      collate_fn=ds_train.collate_fn\n",
        "    )\n",
        "    dl_val = DataLoader(\n",
        "      ds_val,\n",
        "      batch_size=BATCH_SIZE,\n",
        "      shuffle=True,\n",
        "      collate_fn=ds_val.collate_fn\n",
        "    )\n",
        "\n",
        "    return ds_train, ds_val, dl_train, dl_val, encoder"
      ]
    },
    {
      "cell_type": "code",
      "execution_count": null,
      "metadata": {
        "colab": {
          "base_uri": "https://localhost:8080/"
        },
        "id": "SZN893yuuDhg",
        "outputId": "95d8e3a5-6e93-4a19-f76d-ff5bf669e004"
      },
      "outputs": [
        {
          "name": "stderr",
          "output_type": "stream",
          "text": [
            "/tmp/ipykernel_2121603/2956719188.py:50: UserWarning:\n",
            "\n",
            "Creating a tensor from a list of numpy.ndarrays is extremely slow. Please consider converting the list to a single numpy.ndarray with numpy.array() before converting to a tensor. (Triggered internally at  ../torch/csrc/utils/tensor_new.cpp:204.)\n",
            "\n"
          ]
        },
        {
          "data": {
            "text/plain": [
              "(torch.Size([4, 3, 224, 224]), torch.Size([4, 17]))"
            ]
          },
          "execution_count": 22,
          "metadata": {},
          "output_type": "execute_result"
        }
      ],
      "source": [
        "ds_train, ds_val, dl_train, dl_val, encoder = get_data(df_train, df_val)\n",
        "\n",
        "imgs, labels = next(iter(dl_train))\n",
        "imgs.shape, labels.shape"
      ]
    },
    {
      "cell_type": "code",
      "execution_count": null,
      "metadata": {
        "colab": {
          "base_uri": "https://localhost:8080/",
          "height": 54
        },
        "id": "mZ0S6xSJuDhp",
        "outputId": "0fd0550f-8fda-42a2-d94e-3e369a9865f5"
      },
      "outputs": [
        {
          "data": {
            "image/png": "[encoded data removed]",
            "text/plain": [
              "<Figure size 640x480 with 1 Axes>"
            ]
          },
          "metadata": {},
          "output_type": "display_data"
        }
      ],
      "source": [
        "ds_train.load_img(5)"
      ]
    },
    {
      "cell_type": "markdown",
      "metadata": {
        "id": "1BjxIOAR0LqG"
      },
      "source": [
        "# Model"
      ]
    },
    {
      "cell_type": "code",
      "execution_count": null,
      "metadata": {
        "colab": {
          "base_uri": "https://localhost:8080/"
        },
        "id": "90y7bSte0LqH",
        "outputId": "cdbe9de9-a962-4df8-d177-6656db10dda8"
      },
      "outputs": [
        {
          "name": "stdout",
          "output_type": "stream",
          "text": [
            "Available SWIN Models: \n"
          ]
        }
      ],
      "source": [
        "print(\"Available SWIN Models: \")\n",
        "#timm.list_models(\"swin*\")"
      ]
    },
    {
      "cell_type": "code",
      "execution_count": null,
      "metadata": {
        "id": "ISneaFJsuDht"
      },
      "outputs": [],
      "source": [
        "model = models.swin_transformer.swin_t(weights='IMAGENET1K_V1')\n",
        "#model = models.swin_transformer.swin_t()\n",
        "num_classes=17\n",
        "swin_embed_dim = 768\n",
        "for param in model.parameters():\n",
        "    param.require_grad = False\n",
        "model.head = nn.Linear(swin_embed_dim, num_classes) # assuming that the head layer has 768 neurons, otherwise change it     \n",
        "torch.nn.Sequential(model, torch.nn.Sigmoid())\n",
        "optimizer = torch.optim.AdamW(model.parameters(), lr=LR)\n",
        "loss_fn = nn.BCELoss() # Binary Cross Entropy\n",
        "model = model.to(device)\n"
      ]
    },
    {
      "cell_type": "code",
      "execution_count": null,
      "metadata": {
        "id": "mwfPGGWo0LqH"
      },
      "outputs": [],
      "source": [
        "#model.state_dict().keys()"
      ]
    },
    {
      "cell_type": "code",
      "execution_count": null,
      "metadata": {
        "colab": {
          "base_uri": "https://localhost:8080/"
        },
        "id": "ub-0rAyq0LqI",
        "outputId": "1c925275-505d-447b-8262-e17b59068ed8"
      },
      "outputs": [
        {
          "name": "stdout",
          "output_type": "stream",
          "text": [
            "_IncompatibleKeys(missing_keys=['features.1.0.attn.relative_position_index', 'features.1.1.attn.relative_position_index', 'features.3.0.attn.relative_position_index', 'features.3.1.attn.relative_position_index', 'features.5.0.attn.relative_position_index', 'features.5.1.attn.relative_position_index', 'features.5.2.attn.relative_position_index', 'features.5.3.attn.relative_position_index', 'features.5.4.attn.relative_position_index', 'features.5.5.attn.relative_position_index', 'features.7.0.attn.relative_position_index', 'features.7.1.attn.relative_position_index', 'head.weight', 'head.bias'], unexpected_keys=[])\n"
          ]
        }
      ],
      "source": [
        "state_dict = model.state_dict()\n",
        "\n",
        "# delete relative_position_index since we always re-init it\n",
        "relative_position_index_keys = [k for k in state_dict.keys() if \"relative_position_index\" in k]\n",
        "for k in relative_position_index_keys:\n",
        "    #print(f\"del {state_dict[k]}\")\n",
        "    del state_dict[k]\n",
        "\n",
        "# delete relative_coords_table since we always re-init it\n",
        "relative_coords_table_keys = [k for k in state_dict.keys() if \"relative_coords_table\" in k]\n",
        "for k in relative_coords_table_keys:\n",
        "    print(f\"del {state_dict[k]}\")\n",
        "    del state_dict[k]\n",
        "\n",
        "# delete attn_mask since we always re-init it\n",
        "attn_mask_keys = [k for k in state_dict.keys() if \"attn_mask\" in k]\n",
        "for k in attn_mask_keys:\n",
        "    print(f\"del {state_dict[k]}\")\n",
        "    del state_dict[k]\n",
        "\n",
        "torch.nn.init.constant_(model.head.bias, 0.)\n",
        "torch.nn.init.constant_(model.head.weight, 0.)\n",
        "del state_dict['head.weight']\n",
        "del state_dict['head.bias']\n",
        "info = model.load_state_dict(state_dict, strict=False)\n",
        "print(info)\n",
        "torch.cuda.empty_cache()"
      ]
    },
    {
      "cell_type": "code",
      "execution_count": null,
      "metadata": {
        "colab": {
          "base_uri": "https://localhost:8080/"
        },
        "id": "1HDlSgh30LqI",
        "outputId": "9cf8b9eb-365a-4e1b-88a4-f889e50b4369"
      },
      "outputs": [
        {
          "data": {
            "text/plain": [
              "tensor([[0., 0., 0., 0., 0., 0., 0., 0., 0., 0., 0., 0., 0., 0., 0., 0., 0.],\n",
              "        [0., 0., 0., 0., 0., 0., 0., 0., 0., 0., 0., 0., 0., 0., 0., 0., 0.],\n",
              "        [0., 0., 0., 0., 0., 0., 0., 0., 0., 0., 0., 0., 0., 0., 0., 0., 0.],\n",
              "        [0., 0., 0., 0., 0., 0., 0., 0., 0., 0., 0., 0., 0., 0., 0., 0., 0.]],\n",
              "       grad_fn=<AddmmBackward0>)"
            ]
          },
          "execution_count": 28,
          "metadata": {},
          "output_type": "execute_result"
        }
      ],
      "source": [
        "imgs, labels = next(iter(dl_train))\n",
        "imgs.shape, labels.shape\n",
        "model(imgs)"
      ]
    },
    {
      "cell_type": "markdown",
      "metadata": {
        "id": "W8SHQnzt0LqJ"
      },
      "source": [
        "from timm.utils import accuracy, AverageMeter\n",
        "import sys\n",
        "@torch.no_grad()\n",
        "def validate(data_loader, model):\n",
        "    criterion = torch.nn.CrossEntropyLoss()\n",
        "    model.eval()\n",
        "\n",
        "    batch_time = AverageMeter()\n",
        "    loss_meter = AverageMeter()\n",
        "    acc1_meter = AverageMeter()\n",
        "    acc5_meter = AverageMeter()\n",
        "\n",
        "    end = time()\n",
        "    for idx, (images, target) in enumerate(data_loader):\n",
        "        #images = images.cuda(non_blocking=True)\n",
        "        #target = target.cuda(non_blocking=True)\n",
        "        images\n",
        "        # compute output\n",
        "        output = model(images)\n",
        "        print(output.size())\n",
        "        # measure accuracy and record loss\n",
        "        loss = criterion(output, target)\n",
        "        acc1, acc5 = accuracy(output, target, topk=(1, 5))\n",
        "\n",
        "        loss_meter.update(loss.item(), target.size(0))\n",
        "        acc1_meter.update(acc1.item(), target.size(0))\n",
        "        acc5_meter.update(acc5.item(), target.size(0))\n",
        "\n",
        "        # measure elapsed time\n",
        "        batch_time.update(time() - end)\n",
        "        end = time()\n",
        "\n",
        "\n",
        "    memory_used = torch.cpu.max_memory_allocated() / (1024.0 * 1024.0)\n",
        "    print(\n",
        "        f'Test: [{idx}/{len(data_loader)}]\\t'+\n",
        "        f'Time {batch_time.val:.3f} ({batch_time.avg:.3f})\\t'+\n",
        "        f'Loss {loss_meter.val:.4f} ({loss_meter.avg:.4f})\\t'+\n",
        "        f'Acc@1 {acc1_meter.val:.3f} ({acc1_meter.avg:.3f})\\t'+\n",
        "        f'Acc@5 {acc5_meter.val:.3f} ({acc5_meter.avg:.3f})\\t'+\n",
        "        f'Mem {memory_used:.0f}MB')\n",
        "    print(f' * Acc@1 {acc1_meter.avg:.3f} Acc@5 {acc5_meter.avg:.3f}')\n",
        "    return acc1_meter.avg, acc5_meter.avg, loss_meter.avg\n",
        "\n",
        "validate(dl_train, model)    "
      ]
    },
    {
      "cell_type": "code",
      "execution_count": null,
      "metadata": {
        "colab": {
          "base_uri": "https://localhost:8080/"
        },
        "id": "3Og2vy9c0LqK",
        "outputId": "487969d5-cffb-4fdd-fd6a-ad77a36e2cac"
      },
      "outputs": [
        {
          "data": {
            "text/plain": [
              "[SwinTransformer(\n",
              "   (features): Sequential(\n",
              "     (0): Sequential(\n",
              "       (0): Conv2d(3, 96, kernel_size=(4, 4), stride=(4, 4))\n",
              "       (1): Permute()\n",
              "       (2): LayerNorm((96,), eps=1e-05, elementwise_affine=True)\n",
              "     )\n",
              "     (1): Sequential(\n",
              "       (0): SwinTransformerBlock(\n",
              "         (norm1): LayerNorm((96,), eps=1e-05, elementwise_affine=True)\n",
              "         (attn): ShiftedWindowAttention(\n",
              "           (qkv): Linear(in_features=96, out_features=288, bias=True)\n",
              "           (proj): Linear(in_features=96, out_features=96, bias=True)\n",
              "         )\n",
              "         (stochastic_depth): StochasticDepth(p=0.0, mode=row)\n",
              "         (norm2): LayerNorm((96,), eps=1e-05, elementwise_affine=True)\n",
              "         (mlp): MLP(\n",
              "           (0): Linear(in_features=96, out_features=384, bias=True)\n",
              "           (1): GELU(approximate=none)\n",
              "           (2): Dropout(p=0.0, inplace=False)\n",
              "           (3): Linear(in_features=384, out_features=96, bias=True)\n",
              "           (4): Dropout(p=0.0, inplace=False)\n",
              "         )\n",
              "       )\n",
              "       (1): SwinTransformerBlock(\n",
              "         (norm1): LayerNorm((96,), eps=1e-05, elementwise_affine=True)\n",
              "         (attn): ShiftedWindowAttention(\n",
              "           (qkv): Linear(in_features=96, out_features=288, bias=True)\n",
              "           (proj): Linear(in_features=96, out_features=96, bias=True)\n",
              "         )\n",
              "         (stochastic_depth): StochasticDepth(p=0.018181818181818184, mode=row)\n",
              "         (norm2): LayerNorm((96,), eps=1e-05, elementwise_affine=True)\n",
              "         (mlp): MLP(\n",
              "           (0): Linear(in_features=96, out_features=384, bias=True)\n",
              "           (1): GELU(approximate=none)\n",
              "           (2): Dropout(p=0.0, inplace=False)\n",
              "           (3): Linear(in_features=384, out_features=96, bias=True)\n",
              "           (4): Dropout(p=0.0, inplace=False)\n",
              "         )\n",
              "       )\n",
              "     )\n",
              "     (2): PatchMerging(\n",
              "       (reduction): Linear(in_features=384, out_features=192, bias=False)\n",
              "       (norm): LayerNorm((384,), eps=1e-05, elementwise_affine=True)\n",
              "     )\n",
              "     (3): Sequential(\n",
              "       (0): SwinTransformerBlock(\n",
              "         (norm1): LayerNorm((192,), eps=1e-05, elementwise_affine=True)\n",
              "         (attn): ShiftedWindowAttention(\n",
              "           (qkv): Linear(in_features=192, out_features=576, bias=True)\n",
              "           (proj): Linear(in_features=192, out_features=192, bias=True)\n",
              "         )\n",
              "         (stochastic_depth): StochasticDepth(p=0.03636363636363637, mode=row)\n",
              "         (norm2): LayerNorm((192,), eps=1e-05, elementwise_affine=True)\n",
              "         (mlp): MLP(\n",
              "           (0): Linear(in_features=192, out_features=768, bias=True)\n",
              "           (1): GELU(approximate=none)\n",
              "           (2): Dropout(p=0.0, inplace=False)\n",
              "           (3): Linear(in_features=768, out_features=192, bias=True)\n",
              "           (4): Dropout(p=0.0, inplace=False)\n",
              "         )\n",
              "       )\n",
              "       (1): SwinTransformerBlock(\n",
              "         (norm1): LayerNorm((192,), eps=1e-05, elementwise_affine=True)\n",
              "         (attn): ShiftedWindowAttention(\n",
              "           (qkv): Linear(in_features=192, out_features=576, bias=True)\n",
              "           (proj): Linear(in_features=192, out_features=192, bias=True)\n",
              "         )\n",
              "         (stochastic_depth): StochasticDepth(p=0.05454545454545456, mode=row)\n",
              "         (norm2): LayerNorm((192,), eps=1e-05, elementwise_affine=True)\n",
              "         (mlp): MLP(\n",
              "           (0): Linear(in_features=192, out_features=768, bias=True)\n",
              "           (1): GELU(approximate=none)\n",
              "           (2): Dropout(p=0.0, inplace=False)\n",
              "           (3): Linear(in_features=768, out_features=192, bias=True)\n",
              "           (4): Dropout(p=0.0, inplace=False)\n",
              "         )\n",
              "       )\n",
              "     )\n",
              "     (4): PatchMerging(\n",
              "       (reduction): Linear(in_features=768, out_features=384, bias=False)\n",
              "       (norm): LayerNorm((768,), eps=1e-05, elementwise_affine=True)\n",
              "     )\n",
              "     (5): Sequential(\n",
              "       (0): SwinTransformerBlock(\n",
              "         (norm1): LayerNorm((384,), eps=1e-05, elementwise_affine=True)\n",
              "         (attn): ShiftedWindowAttention(\n",
              "           (qkv): Linear(in_features=384, out_features=1152, bias=True)\n",
              "           (proj): Linear(in_features=384, out_features=384, bias=True)\n",
              "         )\n",
              "         (stochastic_depth): StochasticDepth(p=0.07272727272727274, mode=row)\n",
              "         (norm2): LayerNorm((384,), eps=1e-05, elementwise_affine=True)\n",
              "         (mlp): MLP(\n",
              "           (0): Linear(in_features=384, out_features=1536, bias=True)\n",
              "           (1): GELU(approximate=none)\n",
              "           (2): Dropout(p=0.0, inplace=False)\n",
              "           (3): Linear(in_features=1536, out_features=384, bias=True)\n",
              "           (4): Dropout(p=0.0, inplace=False)\n",
              "         )\n",
              "       )\n",
              "       (1): SwinTransformerBlock(\n",
              "         (norm1): LayerNorm((384,), eps=1e-05, elementwise_affine=True)\n",
              "         (attn): ShiftedWindowAttention(\n",
              "           (qkv): Linear(in_features=384, out_features=1152, bias=True)\n",
              "           (proj): Linear(in_features=384, out_features=384, bias=True)\n",
              "         )\n",
              "         (stochastic_depth): StochasticDepth(p=0.09090909090909091, mode=row)\n",
              "         (norm2): LayerNorm((384,), eps=1e-05, elementwise_affine=True)\n",
              "         (mlp): MLP(\n",
              "           (0): Linear(in_features=384, out_features=1536, bias=True)\n",
              "           (1): GELU(approximate=none)\n",
              "           (2): Dropout(p=0.0, inplace=False)\n",
              "           (3): Linear(in_features=1536, out_features=384, bias=True)\n",
              "           (4): Dropout(p=0.0, inplace=False)\n",
              "         )\n",
              "       )\n",
              "       (2): SwinTransformerBlock(\n",
              "         (norm1): LayerNorm((384,), eps=1e-05, elementwise_affine=True)\n",
              "         (attn): ShiftedWindowAttention(\n",
              "           (qkv): Linear(in_features=384, out_features=1152, bias=True)\n",
              "           (proj): Linear(in_features=384, out_features=384, bias=True)\n",
              "         )\n",
              "         (stochastic_depth): StochasticDepth(p=0.10909090909090911, mode=row)\n",
              "         (norm2): LayerNorm((384,), eps=1e-05, elementwise_affine=True)\n",
              "         (mlp): MLP(\n",
              "           (0): Linear(in_features=384, out_features=1536, bias=True)\n",
              "           (1): GELU(approximate=none)\n",
              "           (2): Dropout(p=0.0, inplace=False)\n",
              "           (3): Linear(in_features=1536, out_features=384, bias=True)\n",
              "           (4): Dropout(p=0.0, inplace=False)\n",
              "         )\n",
              "       )\n",
              "       (3): SwinTransformerBlock(\n",
              "         (norm1): LayerNorm((384,), eps=1e-05, elementwise_affine=True)\n",
              "         (attn): ShiftedWindowAttention(\n",
              "           (qkv): Linear(in_features=384, out_features=1152, bias=True)\n",
              "           (proj): Linear(in_features=384, out_features=384, bias=True)\n",
              "         )\n",
              "         (stochastic_depth): StochasticDepth(p=0.1272727272727273, mode=row)\n",
              "         (norm2): LayerNorm((384,), eps=1e-05, elementwise_affine=True)\n",
              "         (mlp): MLP(\n",
              "           (0): Linear(in_features=384, out_features=1536, bias=True)\n",
              "           (1): GELU(approximate=none)\n",
              "           (2): Dropout(p=0.0, inplace=False)\n",
              "           (3): Linear(in_features=1536, out_features=384, bias=True)\n",
              "           (4): Dropout(p=0.0, inplace=False)\n",
              "         )\n",
              "       )\n",
              "       (4): SwinTransformerBlock(\n",
              "         (norm1): LayerNorm((384,), eps=1e-05, elementwise_affine=True)\n",
              "         (attn): ShiftedWindowAttention(\n",
              "           (qkv): Linear(in_features=384, out_features=1152, bias=True)\n",
              "           (proj): Linear(in_features=384, out_features=384, bias=True)\n",
              "         )\n",
              "         (stochastic_depth): StochasticDepth(p=0.14545454545454548, mode=row)\n",
              "         (norm2): LayerNorm((384,), eps=1e-05, elementwise_affine=True)\n",
              "         (mlp): MLP(\n",
              "           (0): Linear(in_features=384, out_features=1536, bias=True)\n",
              "           (1): GELU(approximate=none)\n",
              "           (2): Dropout(p=0.0, inplace=False)\n",
              "           (3): Linear(in_features=1536, out_features=384, bias=True)\n",
              "           (4): Dropout(p=0.0, inplace=False)\n",
              "         )\n",
              "       )\n",
              "       (5): SwinTransformerBlock(\n",
              "         (norm1): LayerNorm((384,), eps=1e-05, elementwise_affine=True)\n",
              "         (attn): ShiftedWindowAttention(\n",
              "           (qkv): Linear(in_features=384, out_features=1152, bias=True)\n",
              "           (proj): Linear(in_features=384, out_features=384, bias=True)\n",
              "         )\n",
              "         (stochastic_depth): StochasticDepth(p=0.16363636363636364, mode=row)\n",
              "         (norm2): LayerNorm((384,), eps=1e-05, elementwise_affine=True)\n",
              "         (mlp): MLP(\n",
              "           (0): Linear(in_features=384, out_features=1536, bias=True)\n",
              "           (1): GELU(approximate=none)\n",
              "           (2): Dropout(p=0.0, inplace=False)\n",
              "           (3): Linear(in_features=1536, out_features=384, bias=True)\n",
              "           (4): Dropout(p=0.0, inplace=False)\n",
              "         )\n",
              "       )\n",
              "     )\n",
              "     (6): PatchMerging(\n",
              "       (reduction): Linear(in_features=1536, out_features=768, bias=False)\n",
              "       (norm): LayerNorm((1536,), eps=1e-05, elementwise_affine=True)\n",
              "     )\n",
              "     (7): Sequential(\n",
              "       (0): SwinTransformerBlock(\n",
              "         (norm1): LayerNorm((768,), eps=1e-05, elementwise_affine=True)\n",
              "         (attn): ShiftedWindowAttention(\n",
              "           (qkv): Linear(in_features=768, out_features=2304, bias=True)\n",
              "           (proj): Linear(in_features=768, out_features=768, bias=True)\n",
              "         )\n",
              "         (stochastic_depth): StochasticDepth(p=0.18181818181818182, mode=row)\n",
              "         (norm2): LayerNorm((768,), eps=1e-05, elementwise_affine=True)\n",
              "         (mlp): MLP(\n",
              "           (0): Linear(in_features=768, out_features=3072, bias=True)\n",
              "           (1): GELU(approximate=none)\n",
              "           (2): Dropout(p=0.0, inplace=False)\n",
              "           (3): Linear(in_features=3072, out_features=768, bias=True)\n",
              "           (4): Dropout(p=0.0, inplace=False)\n",
              "         )\n",
              "       )\n",
              "       (1): SwinTransformerBlock(\n",
              "         (norm1): LayerNorm((768,), eps=1e-05, elementwise_affine=True)\n",
              "         (attn): ShiftedWindowAttention(\n",
              "           (qkv): Linear(in_features=768, out_features=2304, bias=True)\n",
              "           (proj): Linear(in_features=768, out_features=768, bias=True)\n",
              "         )\n",
              "         (stochastic_depth): StochasticDepth(p=0.2, mode=row)\n",
              "         (norm2): LayerNorm((768,), eps=1e-05, elementwise_affine=True)\n",
              "         (mlp): MLP(\n",
              "           (0): Linear(in_features=768, out_features=3072, bias=True)\n",
              "           (1): GELU(approximate=none)\n",
              "           (2): Dropout(p=0.0, inplace=False)\n",
              "           (3): Linear(in_features=3072, out_features=768, bias=True)\n",
              "           (4): Dropout(p=0.0, inplace=False)\n",
              "         )\n",
              "       )\n",
              "     )\n",
              "   )\n",
              "   (norm): LayerNorm((768,), eps=1e-05, elementwise_affine=True)\n",
              "   (avgpool): AdaptiveAvgPool2d(output_size=1)\n",
              "   (head): Linear(in_features=768, out_features=17, bias=True)\n",
              " ),\n",
              " Conv2d(3, 96, kernel_size=(4, 4), stride=(4, 4)),\n",
              " Permute(),\n",
              " LayerNorm((96,), eps=1e-05, elementwise_affine=True),\n",
              " SwinTransformerBlock(\n",
              "   (norm1): LayerNorm((96,), eps=1e-05, elementwise_affine=True)\n",
              "   (attn): ShiftedWindowAttention(\n",
              "     (qkv): Linear(in_features=96, out_features=288, bias=True)\n",
              "     (proj): Linear(in_features=96, out_features=96, bias=True)\n",
              "   )\n",
              "   (stochastic_depth): StochasticDepth(p=0.0, mode=row)\n",
              "   (norm2): LayerNorm((96,), eps=1e-05, elementwise_affine=True)\n",
              "   (mlp): MLP(\n",
              "     (0): Linear(in_features=96, out_features=384, bias=True)\n",
              "     (1): GELU(approximate=none)\n",
              "     (2): Dropout(p=0.0, inplace=False)\n",
              "     (3): Linear(in_features=384, out_features=96, bias=True)\n",
              "     (4): Dropout(p=0.0, inplace=False)\n",
              "   )\n",
              " ),\n",
              " LayerNorm((96,), eps=1e-05, elementwise_affine=True),\n",
              " ShiftedWindowAttention(\n",
              "   (qkv): Linear(in_features=96, out_features=288, bias=True)\n",
              "   (proj): Linear(in_features=96, out_features=96, bias=True)\n",
              " ),\n",
              " Linear(in_features=96, out_features=288, bias=True),\n",
              " Linear(in_features=96, out_features=96, bias=True),\n",
              " StochasticDepth(p=0.0, mode=row),\n",
              " LayerNorm((96,), eps=1e-05, elementwise_affine=True),\n",
              " Linear(in_features=96, out_features=384, bias=True),\n",
              " GELU(approximate=none),\n",
              " Dropout(p=0.0, inplace=False),\n",
              " Linear(in_features=384, out_features=96, bias=True),\n",
              " Dropout(p=0.0, inplace=False),\n",
              " SwinTransformerBlock(\n",
              "   (norm1): LayerNorm((96,), eps=1e-05, elementwise_affine=True)\n",
              "   (attn): ShiftedWindowAttention(\n",
              "     (qkv): Linear(in_features=96, out_features=288, bias=True)\n",
              "     (proj): Linear(in_features=96, out_features=96, bias=True)\n",
              "   )\n",
              "   (stochastic_depth): StochasticDepth(p=0.018181818181818184, mode=row)\n",
              "   (norm2): LayerNorm((96,), eps=1e-05, elementwise_affine=True)\n",
              "   (mlp): MLP(\n",
              "     (0): Linear(in_features=96, out_features=384, bias=True)\n",
              "     (1): GELU(approximate=none)\n",
              "     (2): Dropout(p=0.0, inplace=False)\n",
              "     (3): Linear(in_features=384, out_features=96, bias=True)\n",
              "     (4): Dropout(p=0.0, inplace=False)\n",
              "   )\n",
              " ),\n",
              " LayerNorm((96,), eps=1e-05, elementwise_affine=True),\n",
              " ShiftedWindowAttention(\n",
              "   (qkv): Linear(in_features=96, out_features=288, bias=True)\n",
              "   (proj): Linear(in_features=96, out_features=96, bias=True)\n",
              " ),\n",
              " Linear(in_features=96, out_features=288, bias=True),\n",
              " Linear(in_features=96, out_features=96, bias=True),\n",
              " StochasticDepth(p=0.018181818181818184, mode=row),\n",
              " LayerNorm((96,), eps=1e-05, elementwise_affine=True),\n",
              " Linear(in_features=96, out_features=384, bias=True),\n",
              " GELU(approximate=none),\n",
              " Dropout(p=0.0, inplace=False),\n",
              " Linear(in_features=384, out_features=96, bias=True),\n",
              " Dropout(p=0.0, inplace=False),\n",
              " PatchMerging(\n",
              "   (reduction): Linear(in_features=384, out_features=192, bias=False)\n",
              "   (norm): LayerNorm((384,), eps=1e-05, elementwise_affine=True)\n",
              " ),\n",
              " Linear(in_features=384, out_features=192, bias=False),\n",
              " LayerNorm((384,), eps=1e-05, elementwise_affine=True),\n",
              " SwinTransformerBlock(\n",
              "   (norm1): LayerNorm((192,), eps=1e-05, elementwise_affine=True)\n",
              "   (attn): ShiftedWindowAttention(\n",
              "     (qkv): Linear(in_features=192, out_features=576, bias=True)\n",
              "     (proj): Linear(in_features=192, out_features=192, bias=True)\n",
              "   )\n",
              "   (stochastic_depth): StochasticDepth(p=0.03636363636363637, mode=row)\n",
              "   (norm2): LayerNorm((192,), eps=1e-05, elementwise_affine=True)\n",
              "   (mlp): MLP(\n",
              "     (0): Linear(in_features=192, out_features=768, bias=True)\n",
              "     (1): GELU(approximate=none)\n",
              "     (2): Dropout(p=0.0, inplace=False)\n",
              "     (3): Linear(in_features=768, out_features=192, bias=True)\n",
              "     (4): Dropout(p=0.0, inplace=False)\n",
              "   )\n",
              " ),\n",
              " LayerNorm((192,), eps=1e-05, elementwise_affine=True),\n",
              " ShiftedWindowAttention(\n",
              "   (qkv): Linear(in_features=192, out_features=576, bias=True)\n",
              "   (proj): Linear(in_features=192, out_features=192, bias=True)\n",
              " ),\n",
              " Linear(in_features=192, out_features=576, bias=True),\n",
              " Linear(in_features=192, out_features=192, bias=True),\n",
              " StochasticDepth(p=0.03636363636363637, mode=row),\n",
              " LayerNorm((192,), eps=1e-05, elementwise_affine=True),\n",
              " Linear(in_features=192, out_features=768, bias=True),\n",
              " GELU(approximate=none),\n",
              " Dropout(p=0.0, inplace=False),\n",
              " Linear(in_features=768, out_features=192, bias=True),\n",
              " Dropout(p=0.0, inplace=False),\n",
              " SwinTransformerBlock(\n",
              "   (norm1): LayerNorm((192,), eps=1e-05, elementwise_affine=True)\n",
              "   (attn): ShiftedWindowAttention(\n",
              "     (qkv): Linear(in_features=192, out_features=576, bias=True)\n",
              "     (proj): Linear(in_features=192, out_features=192, bias=True)\n",
              "   )\n",
              "   (stochastic_depth): StochasticDepth(p=0.05454545454545456, mode=row)\n",
              "   (norm2): LayerNorm((192,), eps=1e-05, elementwise_affine=True)\n",
              "   (mlp): MLP(\n",
              "     (0): Linear(in_features=192, out_features=768, bias=True)\n",
              "     (1): GELU(approximate=none)\n",
              "     (2): Dropout(p=0.0, inplace=False)\n",
              "     (3): Linear(in_features=768, out_features=192, bias=True)\n",
              "     (4): Dropout(p=0.0, inplace=False)\n",
              "   )\n",
              " ),\n",
              " LayerNorm((192,), eps=1e-05, elementwise_affine=True),\n",
              " ShiftedWindowAttention(\n",
              "   (qkv): Linear(in_features=192, out_features=576, bias=True)\n",
              "   (proj): Linear(in_features=192, out_features=192, bias=True)\n",
              " ),\n",
              " Linear(in_features=192, out_features=576, bias=True),\n",
              " Linear(in_features=192, out_features=192, bias=True),\n",
              " StochasticDepth(p=0.05454545454545456, mode=row),\n",
              " LayerNorm((192,), eps=1e-05, elementwise_affine=True),\n",
              " Linear(in_features=192, out_features=768, bias=True),\n",
              " GELU(approximate=none),\n",
              " Dropout(p=0.0, inplace=False),\n",
              " Linear(in_features=768, out_features=192, bias=True),\n",
              " Dropout(p=0.0, inplace=False),\n",
              " PatchMerging(\n",
              "   (reduction): Linear(in_features=768, out_features=384, bias=False)\n",
              "   (norm): LayerNorm((768,), eps=1e-05, elementwise_affine=True)\n",
              " ),\n",
              " Linear(in_features=768, out_features=384, bias=False),\n",
              " LayerNorm((768,), eps=1e-05, elementwise_affine=True),\n",
              " SwinTransformerBlock(\n",
              "   (norm1): LayerNorm((384,), eps=1e-05, elementwise_affine=True)\n",
              "   (attn): ShiftedWindowAttention(\n",
              "     (qkv): Linear(in_features=384, out_features=1152, bias=True)\n",
              "     (proj): Linear(in_features=384, out_features=384, bias=True)\n",
              "   )\n",
              "   (stochastic_depth): StochasticDepth(p=0.07272727272727274, mode=row)\n",
              "   (norm2): LayerNorm((384,), eps=1e-05, elementwise_affine=True)\n",
              "   (mlp): MLP(\n",
              "     (0): Linear(in_features=384, out_features=1536, bias=True)\n",
              "     (1): GELU(approximate=none)\n",
              "     (2): Dropout(p=0.0, inplace=False)\n",
              "     (3): Linear(in_features=1536, out_features=384, bias=True)\n",
              "     (4): Dropout(p=0.0, inplace=False)\n",
              "   )\n",
              " ),\n",
              " LayerNorm((384,), eps=1e-05, elementwise_affine=True),\n",
              " ShiftedWindowAttention(\n",
              "   (qkv): Linear(in_features=384, out_features=1152, bias=True)\n",
              "   (proj): Linear(in_features=384, out_features=384, bias=True)\n",
              " ),\n",
              " Linear(in_features=384, out_features=1152, bias=True),\n",
              " Linear(in_features=384, out_features=384, bias=True),\n",
              " StochasticDepth(p=0.07272727272727274, mode=row),\n",
              " LayerNorm((384,), eps=1e-05, elementwise_affine=True),\n",
              " Linear(in_features=384, out_features=1536, bias=True),\n",
              " GELU(approximate=none),\n",
              " Dropout(p=0.0, inplace=False),\n",
              " Linear(in_features=1536, out_features=384, bias=True),\n",
              " Dropout(p=0.0, inplace=False),\n",
              " SwinTransformerBlock(\n",
              "   (norm1): LayerNorm((384,), eps=1e-05, elementwise_affine=True)\n",
              "   (attn): ShiftedWindowAttention(\n",
              "     (qkv): Linear(in_features=384, out_features=1152, bias=True)\n",
              "     (proj): Linear(in_features=384, out_features=384, bias=True)\n",
              "   )\n",
              "   (stochastic_depth): StochasticDepth(p=0.09090909090909091, mode=row)\n",
              "   (norm2): LayerNorm((384,), eps=1e-05, elementwise_affine=True)\n",
              "   (mlp): MLP(\n",
              "     (0): Linear(in_features=384, out_features=1536, bias=True)\n",
              "     (1): GELU(approximate=none)\n",
              "     (2): Dropout(p=0.0, inplace=False)\n",
              "     (3): Linear(in_features=1536, out_features=384, bias=True)\n",
              "     (4): Dropout(p=0.0, inplace=False)\n",
              "   )\n",
              " ),\n",
              " LayerNorm((384,), eps=1e-05, elementwise_affine=True),\n",
              " ShiftedWindowAttention(\n",
              "   (qkv): Linear(in_features=384, out_features=1152, bias=True)\n",
              "   (proj): Linear(in_features=384, out_features=384, bias=True)\n",
              " ),\n",
              " Linear(in_features=384, out_features=1152, bias=True),\n",
              " Linear(in_features=384, out_features=384, bias=True),\n",
              " StochasticDepth(p=0.09090909090909091, mode=row),\n",
              " LayerNorm((384,), eps=1e-05, elementwise_affine=True),\n",
              " Linear(in_features=384, out_features=1536, bias=True),\n",
              " GELU(approximate=none),\n",
              " Dropout(p=0.0, inplace=False),\n",
              " Linear(in_features=1536, out_features=384, bias=True),\n",
              " Dropout(p=0.0, inplace=False),\n",
              " SwinTransformerBlock(\n",
              "   (norm1): LayerNorm((384,), eps=1e-05, elementwise_affine=True)\n",
              "   (attn): ShiftedWindowAttention(\n",
              "     (qkv): Linear(in_features=384, out_features=1152, bias=True)\n",
              "     (proj): Linear(in_features=384, out_features=384, bias=True)\n",
              "   )\n",
              "   (stochastic_depth): StochasticDepth(p=0.10909090909090911, mode=row)\n",
              "   (norm2): LayerNorm((384,), eps=1e-05, elementwise_affine=True)\n",
              "   (mlp): MLP(\n",
              "     (0): Linear(in_features=384, out_features=1536, bias=True)\n",
              "     (1): GELU(approximate=none)\n",
              "     (2): Dropout(p=0.0, inplace=False)\n",
              "     (3): Linear(in_features=1536, out_features=384, bias=True)\n",
              "     (4): Dropout(p=0.0, inplace=False)\n",
              "   )\n",
              " ),\n",
              " LayerNorm((384,), eps=1e-05, elementwise_affine=True),\n",
              " ShiftedWindowAttention(\n",
              "   (qkv): Linear(in_features=384, out_features=1152, bias=True)\n",
              "   (proj): Linear(in_features=384, out_features=384, bias=True)\n",
              " ),\n",
              " Linear(in_features=384, out_features=1152, bias=True),\n",
              " Linear(in_features=384, out_features=384, bias=True),\n",
              " StochasticDepth(p=0.10909090909090911, mode=row),\n",
              " LayerNorm((384,), eps=1e-05, elementwise_affine=True),\n",
              " Linear(in_features=384, out_features=1536, bias=True),\n",
              " GELU(approximate=none),\n",
              " Dropout(p=0.0, inplace=False),\n",
              " Linear(in_features=1536, out_features=384, bias=True),\n",
              " Dropout(p=0.0, inplace=False),\n",
              " SwinTransformerBlock(\n",
              "   (norm1): LayerNorm((384,), eps=1e-05, elementwise_affine=True)\n",
              "   (attn): ShiftedWindowAttention(\n",
              "     (qkv): Linear(in_features=384, out_features=1152, bias=True)\n",
              "     (proj): Linear(in_features=384, out_features=384, bias=True)\n",
              "   )\n",
              "   (stochastic_depth): StochasticDepth(p=0.1272727272727273, mode=row)\n",
              "   (norm2): LayerNorm((384,), eps=1e-05, elementwise_affine=True)\n",
              "   (mlp): MLP(\n",
              "     (0): Linear(in_features=384, out_features=1536, bias=True)\n",
              "     (1): GELU(approximate=none)\n",
              "     (2): Dropout(p=0.0, inplace=False)\n",
              "     (3): Linear(in_features=1536, out_features=384, bias=True)\n",
              "     (4): Dropout(p=0.0, inplace=False)\n",
              "   )\n",
              " ),\n",
              " LayerNorm((384,), eps=1e-05, elementwise_affine=True),\n",
              " ShiftedWindowAttention(\n",
              "   (qkv): Linear(in_features=384, out_features=1152, bias=True)\n",
              "   (proj): Linear(in_features=384, out_features=384, bias=True)\n",
              " ),\n",
              " Linear(in_features=384, out_features=1152, bias=True),\n",
              " Linear(in_features=384, out_features=384, bias=True),\n",
              " StochasticDepth(p=0.1272727272727273, mode=row),\n",
              " LayerNorm((384,), eps=1e-05, elementwise_affine=True),\n",
              " Linear(in_features=384, out_features=1536, bias=True),\n",
              " GELU(approximate=none),\n",
              " Dropout(p=0.0, inplace=False),\n",
              " Linear(in_features=1536, out_features=384, bias=True),\n",
              " Dropout(p=0.0, inplace=False),\n",
              " SwinTransformerBlock(\n",
              "   (norm1): LayerNorm((384,), eps=1e-05, elementwise_affine=True)\n",
              "   (attn): ShiftedWindowAttention(\n",
              "     (qkv): Linear(in_features=384, out_features=1152, bias=True)\n",
              "     (proj): Linear(in_features=384, out_features=384, bias=True)\n",
              "   )\n",
              "   (stochastic_depth): StochasticDepth(p=0.14545454545454548, mode=row)\n",
              "   (norm2): LayerNorm((384,), eps=1e-05, elementwise_affine=True)\n",
              "   (mlp): MLP(\n",
              "     (0): Linear(in_features=384, out_features=1536, bias=True)\n",
              "     (1): GELU(approximate=none)\n",
              "     (2): Dropout(p=0.0, inplace=False)\n",
              "     (3): Linear(in_features=1536, out_features=384, bias=True)\n",
              "     (4): Dropout(p=0.0, inplace=False)\n",
              "   )\n",
              " ),\n",
              " LayerNorm((384,), eps=1e-05, elementwise_affine=True),\n",
              " ShiftedWindowAttention(\n",
              "   (qkv): Linear(in_features=384, out_features=1152, bias=True)\n",
              "   (proj): Linear(in_features=384, out_features=384, bias=True)\n",
              " ),\n",
              " Linear(in_features=384, out_features=1152, bias=True),\n",
              " Linear(in_features=384, out_features=384, bias=True),\n",
              " StochasticDepth(p=0.14545454545454548, mode=row),\n",
              " LayerNorm((384,), eps=1e-05, elementwise_affine=True),\n",
              " Linear(in_features=384, out_features=1536, bias=True),\n",
              " GELU(approximate=none),\n",
              " Dropout(p=0.0, inplace=False),\n",
              " Linear(in_features=1536, out_features=384, bias=True),\n",
              " Dropout(p=0.0, inplace=False),\n",
              " SwinTransformerBlock(\n",
              "   (norm1): LayerNorm((384,), eps=1e-05, elementwise_affine=True)\n",
              "   (attn): ShiftedWindowAttention(\n",
              "     (qkv): Linear(in_features=384, out_features=1152, bias=True)\n",
              "     (proj): Linear(in_features=384, out_features=384, bias=True)\n",
              "   )\n",
              "   (stochastic_depth): StochasticDepth(p=0.16363636363636364, mode=row)\n",
              "   (norm2): LayerNorm((384,), eps=1e-05, elementwise_affine=True)\n",
              "   (mlp): MLP(\n",
              "     (0): Linear(in_features=384, out_features=1536, bias=True)\n",
              "     (1): GELU(approximate=none)\n",
              "     (2): Dropout(p=0.0, inplace=False)\n",
              "     (3): Linear(in_features=1536, out_features=384, bias=True)\n",
              "     (4): Dropout(p=0.0, inplace=False)\n",
              "   )\n",
              " ),\n",
              " LayerNorm((384,), eps=1e-05, elementwise_affine=True),\n",
              " ShiftedWindowAttention(\n",
              "   (qkv): Linear(in_features=384, out_features=1152, bias=True)\n",
              "   (proj): Linear(in_features=384, out_features=384, bias=True)\n",
              " ),\n",
              " Linear(in_features=384, out_features=1152, bias=True),\n",
              " Linear(in_features=384, out_features=384, bias=True),\n",
              " StochasticDepth(p=0.16363636363636364, mode=row),\n",
              " LayerNorm((384,), eps=1e-05, elementwise_affine=True),\n",
              " Linear(in_features=384, out_features=1536, bias=True),\n",
              " GELU(approximate=none),\n",
              " Dropout(p=0.0, inplace=False),\n",
              " Linear(in_features=1536, out_features=384, bias=True),\n",
              " Dropout(p=0.0, inplace=False),\n",
              " PatchMerging(\n",
              "   (reduction): Linear(in_features=1536, out_features=768, bias=False)\n",
              "   (norm): LayerNorm((1536,), eps=1e-05, elementwise_affine=True)\n",
              " ),\n",
              " Linear(in_features=1536, out_features=768, bias=False),\n",
              " LayerNorm((1536,), eps=1e-05, elementwise_affine=True),\n",
              " SwinTransformerBlock(\n",
              "   (norm1): LayerNorm((768,), eps=1e-05, elementwise_affine=True)\n",
              "   (attn): ShiftedWindowAttention(\n",
              "     (qkv): Linear(in_features=768, out_features=2304, bias=True)\n",
              "     (proj): Linear(in_features=768, out_features=768, bias=True)\n",
              "   )\n",
              "   (stochastic_depth): StochasticDepth(p=0.18181818181818182, mode=row)\n",
              "   (norm2): LayerNorm((768,), eps=1e-05, elementwise_affine=True)\n",
              "   (mlp): MLP(\n",
              "     (0): Linear(in_features=768, out_features=3072, bias=True)\n",
              "     (1): GELU(approximate=none)\n",
              "     (2): Dropout(p=0.0, inplace=False)\n",
              "     (3): Linear(in_features=3072, out_features=768, bias=True)\n",
              "     (4): Dropout(p=0.0, inplace=False)\n",
              "   )\n",
              " ),\n",
              " LayerNorm((768,), eps=1e-05, elementwise_affine=True),\n",
              " ShiftedWindowAttention(\n",
              "   (qkv): Linear(in_features=768, out_features=2304, bias=True)\n",
              "   (proj): Linear(in_features=768, out_features=768, bias=True)\n",
              " ),\n",
              " Linear(in_features=768, out_features=2304, bias=True),\n",
              " Linear(in_features=768, out_features=768, bias=True),\n",
              " StochasticDepth(p=0.18181818181818182, mode=row),\n",
              " LayerNorm((768,), eps=1e-05, elementwise_affine=True),\n",
              " Linear(in_features=768, out_features=3072, bias=True),\n",
              " GELU(approximate=none),\n",
              " Dropout(p=0.0, inplace=False),\n",
              " Linear(in_features=3072, out_features=768, bias=True),\n",
              " Dropout(p=0.0, inplace=False),\n",
              " SwinTransformerBlock(\n",
              "   (norm1): LayerNorm((768,), eps=1e-05, elementwise_affine=True)\n",
              "   (attn): ShiftedWindowAttention(\n",
              "     (qkv): Linear(in_features=768, out_features=2304, bias=True)\n",
              "     (proj): Linear(in_features=768, out_features=768, bias=True)\n",
              "   )\n",
              "   (stochastic_depth): StochasticDepth(p=0.2, mode=row)\n",
              "   (norm2): LayerNorm((768,), eps=1e-05, elementwise_affine=True)\n",
              "   (mlp): MLP(\n",
              "     (0): Linear(in_features=768, out_features=3072, bias=True)\n",
              "     (1): GELU(approximate=none)\n",
              "     (2): Dropout(p=0.0, inplace=False)\n",
              "     (3): Linear(in_features=3072, out_features=768, bias=True)\n",
              "     (4): Dropout(p=0.0, inplace=False)\n",
              "   )\n",
              " ),\n",
              " LayerNorm((768,), eps=1e-05, elementwise_affine=True),\n",
              " ShiftedWindowAttention(\n",
              "   (qkv): Linear(in_features=768, out_features=2304, bias=True)\n",
              "   (proj): Linear(in_features=768, out_features=768, bias=True)\n",
              " ),\n",
              " Linear(in_features=768, out_features=2304, bias=True),\n",
              " Linear(in_features=768, out_features=768, bias=True),\n",
              " StochasticDepth(p=0.2, mode=row),\n",
              " LayerNorm((768,), eps=1e-05, elementwise_affine=True),\n",
              " Linear(in_features=768, out_features=3072, bias=True),\n",
              " GELU(approximate=none),\n",
              " Dropout(p=0.0, inplace=False),\n",
              " Linear(in_features=3072, out_features=768, bias=True),\n",
              " Dropout(p=0.0, inplace=False),\n",
              " LayerNorm((768,), eps=1e-05, elementwise_affine=True),\n",
              " AdaptiveAvgPool2d(output_size=1),\n",
              " Linear(in_features=768, out_features=17, bias=True)]"
            ]
          },
          "execution_count": 29,
          "metadata": {},
          "output_type": "execute_result"
        }
      ],
      "source": [
        "[module for module in model.modules() if not isinstance(module, nn.Sequential)]"
      ]
    },
    {
      "cell_type": "markdown",
      "metadata": {
        "id": "7b8bTtPE0LqK"
      },
      "source": [
        "# Train setup"
      ]
    },
    {
      "cell_type": "code",
      "execution_count": null,
      "metadata": {
        "id": "42XGRULguDhw"
      },
      "outputs": [],
      "source": [
        "sample_X = None\n",
        "def train_batch(X, Y, model, loss_fn, optimizer):\n",
        "    model.train()\n",
        "    optimizer.zero_grad()\n",
        "    sample_X = X\n",
        "    Y_hat = model(X)\n",
        "    batch_loss = loss_fn(Y_hat, Y)\n",
        "    batch_loss.backward()\n",
        "    optimizer.step()\n",
        "    Y_hat = Y_hat.detach().float().cpu().numpy()\n",
        "    \n",
        "    return Y_hat, batch_loss.item()\n",
        "\n",
        "\n",
        "@torch.no_grad()\n",
        "def compute_val_loss(X, Y, model, loss_fn):\n",
        "    model.eval()\n",
        "    Y_hat = model(X)\n",
        "    batch_loss = loss_fn(Y_hat, Y)\n",
        "    Y_hat = Y_hat.detach().float().cpu().numpy()\n",
        "    \n",
        "    return Y_hat, batch_loss.item()"
      ]
    },
    {
      "cell_type": "code",
      "execution_count": 32,
      "metadata": {},
      "outputs": [
        {
          "ename": "RuntimeError",
          "evalue": "all elements of input should be between 0 and 1",
          "output_type": "error",
          "traceback": [
            "\u001b[0;31m---------------------------------------------------------------------------\u001b[0m",
            "\u001b[0;31mRuntimeError\u001b[0m                              Traceback (most recent call last)",
            "Cell \u001b[0;32mIn [32], line 9\u001b[0m\n\u001b[1;32m      7\u001b[0m sample_X \u001b[38;5;241m=\u001b[39m X\n\u001b[1;32m      8\u001b[0m Y_hat \u001b[38;5;241m=\u001b[39m model(X)\n\u001b[0;32m----> 9\u001b[0m batch_loss \u001b[38;5;241m=\u001b[39m loss_fn(Y_hat, Y)\n",
            "File \u001b[0;32m~/.local/lib/python3.10/site-packages/torch/nn/modules/module.py:1130\u001b[0m, in \u001b[0;36mModule._call_impl\u001b[0;34m(self, *input, **kwargs)\u001b[0m\n\u001b[1;32m   1126\u001b[0m \u001b[39m# If we don't have any hooks, we want to skip the rest of the logic in\u001b[39;00m\n\u001b[1;32m   1127\u001b[0m \u001b[39m# this function, and just call forward.\u001b[39;00m\n\u001b[1;32m   1128\u001b[0m \u001b[39mif\u001b[39;00m \u001b[39mnot\u001b[39;00m (\u001b[39mself\u001b[39m\u001b[39m.\u001b[39m_backward_hooks \u001b[39mor\u001b[39;00m \u001b[39mself\u001b[39m\u001b[39m.\u001b[39m_forward_hooks \u001b[39mor\u001b[39;00m \u001b[39mself\u001b[39m\u001b[39m.\u001b[39m_forward_pre_hooks \u001b[39mor\u001b[39;00m _global_backward_hooks\n\u001b[1;32m   1129\u001b[0m         \u001b[39mor\u001b[39;00m _global_forward_hooks \u001b[39mor\u001b[39;00m _global_forward_pre_hooks):\n\u001b[0;32m-> 1130\u001b[0m     \u001b[39mreturn\u001b[39;00m forward_call(\u001b[39m*\u001b[39;49m\u001b[39minput\u001b[39;49m, \u001b[39m*\u001b[39;49m\u001b[39m*\u001b[39;49mkwargs)\n\u001b[1;32m   1131\u001b[0m \u001b[39m# Do not call functions when jit is used\u001b[39;00m\n\u001b[1;32m   1132\u001b[0m full_backward_hooks, non_full_backward_hooks \u001b[39m=\u001b[39m [], []\n",
            "File \u001b[0;32m~/.local/lib/python3.10/site-packages/torch/nn/modules/loss.py:613\u001b[0m, in \u001b[0;36mBCELoss.forward\u001b[0;34m(self, input, target)\u001b[0m\n\u001b[1;32m    612\u001b[0m \u001b[39mdef\u001b[39;00m \u001b[39mforward\u001b[39m(\u001b[39mself\u001b[39m, \u001b[39minput\u001b[39m: Tensor, target: Tensor) \u001b[39m-\u001b[39m\u001b[39m>\u001b[39m Tensor:\n\u001b[0;32m--> 613\u001b[0m     \u001b[39mreturn\u001b[39;00m F\u001b[39m.\u001b[39;49mbinary_cross_entropy(\u001b[39minput\u001b[39;49m, target, weight\u001b[39m=\u001b[39;49m\u001b[39mself\u001b[39;49m\u001b[39m.\u001b[39;49mweight, reduction\u001b[39m=\u001b[39;49m\u001b[39mself\u001b[39;49m\u001b[39m.\u001b[39;49mreduction)\n",
            "File \u001b[0;32m~/.local/lib/python3.10/site-packages/torch/nn/functional.py:3083\u001b[0m, in \u001b[0;36mbinary_cross_entropy\u001b[0;34m(input, target, weight, size_average, reduce, reduction)\u001b[0m\n\u001b[1;32m   3080\u001b[0m     new_size \u001b[39m=\u001b[39m _infer_size(target\u001b[39m.\u001b[39msize(), weight\u001b[39m.\u001b[39msize())\n\u001b[1;32m   3081\u001b[0m     weight \u001b[39m=\u001b[39m weight\u001b[39m.\u001b[39mexpand(new_size)\n\u001b[0;32m-> 3083\u001b[0m \u001b[39mreturn\u001b[39;00m torch\u001b[39m.\u001b[39;49m_C\u001b[39m.\u001b[39;49m_nn\u001b[39m.\u001b[39;49mbinary_cross_entropy(\u001b[39minput\u001b[39;49m, target, weight, reduction_enum)\n",
            "\u001b[0;31mRuntimeError\u001b[0m: all elements of input should be between 0 and 1"
          ]
        }
      ],
      "source": [
        "X, Y  = next(iter(dl_train))\n",
        "\n",
        "optimizer = Adam(model.parameters(), lr=LR)\n",
        "loss_fn = nn.BCELoss()\n",
        "model.train()\n",
        "optimizer.zero_grad()\n",
        "sample_X = X\n",
        "Y_hat = model(X)\n",
        "batch_loss = loss_fn(Y_hat, Y)"
      ]
    },
    {
      "cell_type": "code",
      "execution_count": 35,
      "metadata": {},
      "outputs": [
        {
          "data": {
            "text/plain": [
              "tensor([[0., 0., 0., 0., 0., 1., 0., 0., 0., 0., 0., 0., 1., 0., 0., 0., 1.],\n",
              "        [0., 0., 0., 0., 0., 0., 0., 0., 0., 0., 0., 1., 1., 0., 0., 0., 0.],\n",
              "        [1., 0., 0., 0., 0., 1., 0., 0., 0., 1., 0., 0., 1., 1., 0., 0., 0.],\n",
              "        [0., 0., 0., 0., 0., 1., 0., 0., 0., 0., 0., 0., 1., 0., 0., 0., 0.]])"
            ]
          },
          "execution_count": 35,
          "metadata": {},
          "output_type": "execute_result"
        }
      ],
      "source": [
        "Y"
      ]
    },
    {
      "cell_type": "code",
      "execution_count": 38,
      "metadata": {},
      "outputs": [
        {
          "data": {
            "text/plain": [
              "tensor([-0.0061], grad_fn=<IndexBackward0>)"
            ]
          },
          "execution_count": 38,
          "metadata": {},
          "output_type": "execute_result"
        }
      ],
      "source": [
        "Y_hat[Y_hat<0]"
      ]
    },
    {
      "cell_type": "code",
      "execution_count": 31,
      "metadata": {
        "colab": {
          "base_uri": "https://localhost:8080/",
          "height": 468,
          "referenced_widgets": [
            "8b82a8daa30f40ae95fc36ecac64c05f",
            "16a575940ba544199242be978ec732d3",
            "8830e52764ee45ea83307286b99590b8",
            "c53b26949b7148dbbb45bfde0bb8f12e",
            "a2df47efe85a4948a34b28ac94255e29",
            "066c3cd1aab94872b9939cdf2ae95cdd",
            "d87f634527e04c7f83ad0291ea06d3b0",
            "73518f4594b549968bbe81c8450587d3",
            "161dd1318b5d474bbdffbc60c2ac09b4",
            "5fcebf54e95f41078ba43cdd497b8eb9",
            "e4cb2348bb044b668e4a7dba4f31b8db"
          ]
        },
        "id": "Ia_yvY8NlJ_7",
        "outputId": "bf7043e1-1f23-4572-8191-2a7bc762c365"
      },
      "outputs": [
        {
          "data": {
            "application/vnd.jupyter.widget-view+json": {
              "model_id": "85f590d3eeab414f83102ed909b78253",
              "version_major": 2,
              "version_minor": 0
            },
            "text/plain": [
              "  0%|          | 0/8096 [00:00<?, ?it/s]"
            ]
          },
          "metadata": {},
          "output_type": "display_data"
        },
        {
          "ename": "RuntimeError",
          "evalue": "all elements of input should be between 0 and 1",
          "output_type": "error",
          "traceback": [
            "\u001b[0;31m---------------------------------------------------------------------------\u001b[0m",
            "\u001b[0;31mRuntimeError\u001b[0m                              Traceback (most recent call last)",
            "Cell \u001b[0;32mIn [31], line 77\u001b[0m\n\u001b[1;32m     74\u001b[0m     torch\u001b[38;5;241m.\u001b[39msave(model, \u001b[38;5;124mf\u001b[39m\u001b[38;5;124m\"\u001b[39m\u001b[38;5;124mswin_t_fold\u001b[39m\u001b[38;5;132;01m{\u001b[39;00midx_fold\u001b[38;5;132;01m}\u001b[39;00m\u001b[38;5;124m.pth\u001b[39m\u001b[38;5;124m\"\u001b[39m)\n\u001b[1;32m     75\u001b[0m     pickle\u001b[38;5;241m.\u001b[39mdump(train_results, \u001b[38;5;28mopen\u001b[39m(\u001b[38;5;124mf\u001b[39m\u001b[38;5;124m\"\u001b[39m\u001b[38;5;124mtrain_results_fold\u001b[39m\u001b[38;5;132;01m{\u001b[39;00midx_fold\u001b[38;5;132;01m}\u001b[39;00m\u001b[38;5;124m.pkl\u001b[39m\u001b[38;5;124m\"\u001b[39m, \u001b[38;5;124m\"\u001b[39m\u001b[38;5;124mwb\u001b[39m\u001b[38;5;124m\"\u001b[39m))\n\u001b[0;32m---> 77\u001b[0m train_model(dl_train, dl_val, \u001b[38;5;241m0\u001b[39m, model)\n",
            "Cell \u001b[0;32mIn [31], line 19\u001b[0m, in \u001b[0;36mtrain_model\u001b[0;34m(dl_train, dl_val, idx_fold, model)\u001b[0m\n\u001b[1;32m     16\u001b[0m Y_train_epoch, Y_val_epoch \u001b[38;5;241m=\u001b[39m [], []\n\u001b[1;32m     18\u001b[0m \u001b[38;5;28;01mfor\u001b[39;00m X, Y \u001b[38;5;129;01min\u001b[39;00m tqdm(dl_train, leave\u001b[38;5;241m=\u001b[39m\u001b[38;5;28;01mFalse\u001b[39;00m):\n\u001b[0;32m---> 19\u001b[0m     Y_hat, batch_loss \u001b[38;5;241m=\u001b[39m \u001b[43mtrain_batch\u001b[49m\u001b[43m(\u001b[49m\u001b[43mX\u001b[49m\u001b[43m,\u001b[49m\u001b[43m \u001b[49m\u001b[43mY\u001b[49m\u001b[43m,\u001b[49m\u001b[43m \u001b[49m\u001b[43mmodel\u001b[49m\u001b[43m,\u001b[49m\u001b[43m \u001b[49m\u001b[43mloss_fn\u001b[49m\u001b[43m,\u001b[49m\u001b[43m \u001b[49m\u001b[43moptimizer\u001b[49m\u001b[43m)\u001b[49m\n\u001b[1;32m     20\u001b[0m     loss_train_epoch\u001b[38;5;241m.\u001b[39mappend(batch_loss)\n\u001b[1;32m     21\u001b[0m     Y_hat_train_epoch\u001b[38;5;241m.\u001b[39mextend(Y_hat)\n",
            "Cell \u001b[0;32mIn [30], line 7\u001b[0m, in \u001b[0;36mtrain_batch\u001b[0;34m(X, Y, model, loss_fn, optimizer)\u001b[0m\n\u001b[1;32m      5\u001b[0m sample_X \u001b[38;5;241m=\u001b[39m X\n\u001b[1;32m      6\u001b[0m Y_hat \u001b[38;5;241m=\u001b[39m model(X)\n\u001b[0;32m----> 7\u001b[0m batch_loss \u001b[38;5;241m=\u001b[39m \u001b[43mloss_fn\u001b[49m\u001b[43m(\u001b[49m\u001b[43mY_hat\u001b[49m\u001b[43m,\u001b[49m\u001b[43m \u001b[49m\u001b[43mY\u001b[49m\u001b[43m)\u001b[49m\n\u001b[1;32m      8\u001b[0m batch_loss\u001b[38;5;241m.\u001b[39mbackward()\n\u001b[1;32m      9\u001b[0m optimizer\u001b[38;5;241m.\u001b[39mstep()\n",
            "File \u001b[0;32m~/.local/lib/python3.10/site-packages/torch/nn/modules/module.py:1130\u001b[0m, in \u001b[0;36mModule._call_impl\u001b[0;34m(self, *input, **kwargs)\u001b[0m\n\u001b[1;32m   1126\u001b[0m \u001b[39m# If we don't have any hooks, we want to skip the rest of the logic in\u001b[39;00m\n\u001b[1;32m   1127\u001b[0m \u001b[39m# this function, and just call forward.\u001b[39;00m\n\u001b[1;32m   1128\u001b[0m \u001b[39mif\u001b[39;00m \u001b[39mnot\u001b[39;00m (\u001b[39mself\u001b[39m\u001b[39m.\u001b[39m_backward_hooks \u001b[39mor\u001b[39;00m \u001b[39mself\u001b[39m\u001b[39m.\u001b[39m_forward_hooks \u001b[39mor\u001b[39;00m \u001b[39mself\u001b[39m\u001b[39m.\u001b[39m_forward_pre_hooks \u001b[39mor\u001b[39;00m _global_backward_hooks\n\u001b[1;32m   1129\u001b[0m         \u001b[39mor\u001b[39;00m _global_forward_hooks \u001b[39mor\u001b[39;00m _global_forward_pre_hooks):\n\u001b[0;32m-> 1130\u001b[0m     \u001b[39mreturn\u001b[39;00m forward_call(\u001b[39m*\u001b[39;49m\u001b[39minput\u001b[39;49m, \u001b[39m*\u001b[39;49m\u001b[39m*\u001b[39;49mkwargs)\n\u001b[1;32m   1131\u001b[0m \u001b[39m# Do not call functions when jit is used\u001b[39;00m\n\u001b[1;32m   1132\u001b[0m full_backward_hooks, non_full_backward_hooks \u001b[39m=\u001b[39m [], []\n",
            "File \u001b[0;32m~/.local/lib/python3.10/site-packages/torch/nn/modules/loss.py:613\u001b[0m, in \u001b[0;36mBCELoss.forward\u001b[0;34m(self, input, target)\u001b[0m\n\u001b[1;32m    612\u001b[0m \u001b[39mdef\u001b[39;00m \u001b[39mforward\u001b[39m(\u001b[39mself\u001b[39m, \u001b[39minput\u001b[39m: Tensor, target: Tensor) \u001b[39m-\u001b[39m\u001b[39m>\u001b[39m Tensor:\n\u001b[0;32m--> 613\u001b[0m     \u001b[39mreturn\u001b[39;00m F\u001b[39m.\u001b[39;49mbinary_cross_entropy(\u001b[39minput\u001b[39;49m, target, weight\u001b[39m=\u001b[39;49m\u001b[39mself\u001b[39;49m\u001b[39m.\u001b[39;49mweight, reduction\u001b[39m=\u001b[39;49m\u001b[39mself\u001b[39;49m\u001b[39m.\u001b[39;49mreduction)\n",
            "File \u001b[0;32m~/.local/lib/python3.10/site-packages/torch/nn/functional.py:3083\u001b[0m, in \u001b[0;36mbinary_cross_entropy\u001b[0;34m(input, target, weight, size_average, reduce, reduction)\u001b[0m\n\u001b[1;32m   3080\u001b[0m     new_size \u001b[39m=\u001b[39m _infer_size(target\u001b[39m.\u001b[39msize(), weight\u001b[39m.\u001b[39msize())\n\u001b[1;32m   3081\u001b[0m     weight \u001b[39m=\u001b[39m weight\u001b[39m.\u001b[39mexpand(new_size)\n\u001b[0;32m-> 3083\u001b[0m \u001b[39mreturn\u001b[39;00m torch\u001b[39m.\u001b[39;49m_C\u001b[39m.\u001b[39;49m_nn\u001b[39m.\u001b[39;49mbinary_cross_entropy(\u001b[39minput\u001b[39;49m, target, weight, reduction_enum)\n",
            "\u001b[0;31mRuntimeError\u001b[0m: all elements of input should be between 0 and 1"
          ]
        }
      ],
      "source": [
        "def train_model(dl_train, dl_val, idx_fold, model):\n",
        "    optimizer = Adam(model.parameters(), lr=LR)\n",
        "    loss_fn = nn.BCELoss()\n",
        "    lr_scheduler = StepLR(optimizer, step_size=LR_STEP_SIZE, gamma=GAMMA)\n",
        "\n",
        "    loss_train, loss_val = [], []\n",
        "    score_train, score_val = [], []\n",
        "\n",
        "    Y_hat_val = None\n",
        "    best_loss_val = np.inf\n",
        "\n",
        "    epochs = N_EPOCHS\n",
        "    for idx in range(epochs):\n",
        "        loss_train_epoch, loss_val_epoch = [], []\n",
        "        Y_hat_train_epoch, Y_hat_val_epoch = [], []\n",
        "        Y_train_epoch, Y_val_epoch = [], []\n",
        "\n",
        "        for X, Y in tqdm(dl_train, leave=False):\n",
        "            Y_hat, batch_loss = train_batch(X, Y, model, loss_fn, optimizer)\n",
        "            loss_train_epoch.append(batch_loss)\n",
        "            Y_hat_train_epoch.extend(Y_hat)\n",
        "            Y_train_epoch.extend(Y.detach().float().cpu().numpy())\n",
        "\n",
        "        for X, Y in tqdm(dl_val, leave=False):\n",
        "            Y_hat, batch_loss = compute_val_loss(X, Y, model, loss_fn)\n",
        "            loss_val_epoch.append(batch_loss)\n",
        "            Y_hat_val_epoch.extend(Y_hat)\n",
        "            Y_val_epoch.extend(Y.detach().float().cpu().numpy())\n",
        "                \n",
        "        avg_loss_train = np.mean(loss_train_epoch)\n",
        "        avg_loss_val = np.mean(loss_val_epoch)\n",
        "\n",
        "        Y_hat_train_epoch = np.array(Y_hat_train_epoch)\n",
        "        Y_hat_val_epoch = np.array(Y_hat_val_epoch)\n",
        "        Y_thresh_train_epoch = (Y_hat_train_epoch > .2).astype(float)\n",
        "        Y_thresh_val_epoch = (Y_hat_val_epoch > .2).astype(float)\n",
        "        Y_train_epoch = np.array(Y_train_epoch)\n",
        "        Y_val_epoch = np.array(Y_val_epoch)\n",
        "        \n",
        "        score_train_epoch = fbeta_score(Y_train_epoch, Y_thresh_train_epoch, beta=2, average=\"samples\")\n",
        "        score_val_epoch = fbeta_score(Y_val_epoch, Y_thresh_val_epoch, beta=2, average=\"samples\")\n",
        "                \n",
        "        # saving values for debugging\n",
        "        if avg_loss_val < best_loss_val:\n",
        "            best_loss_val = avg_loss_val\n",
        "            Y_hat_val = Y_hat_val_epoch\n",
        "            Y_thresh_val = Y_thresh_val_epoch\n",
        "            Y_val = Y_val_epoch\n",
        "            \n",
        "        loss_train.append(avg_loss_train)\n",
        "        loss_val.append(avg_loss_val)\n",
        "        score_train.append(score_train_epoch)\n",
        "        score_val.append(score_val_epoch)\n",
        "\n",
        "        print(\n",
        "            f\"epoch: {idx}/{epochs} -- train loss: {avg_loss_train}, \" \\\n",
        "            f\"val loss: {avg_loss_val}\" \\\n",
        "            f\" -- train fbeta_score: {score_train_epoch}, \" \\\n",
        "            f\"val fbeta_score: {score_val_epoch}\"\n",
        "        )\n",
        "        \n",
        "        lr_scheduler.step()\n",
        "\n",
        "    train_results = {\n",
        "        \"loss_train\": loss_train,\n",
        "        \"loss_val\": loss_val,\n",
        "        \"score_train\": score_train,\n",
        "        \"score_val\": score_val,\n",
        "        \"Y_hat_val\": Y_hat_val,\n",
        "        \"Y_thresh_val\": Y_thresh_val,\n",
        "        \"Y_val\": Y_val,\n",
        "    }\n",
        "        \n",
        "    torch.save(model, f\"swin_t_fold{idx_fold}.pth\")\n",
        "    pickle.dump(train_results, open(f\"train_results_fold{idx_fold}.pkl\", \"wb\"))\n",
        "\n",
        "train_model(dl_train, dl_val, 0, model)"
      ]
    },
    {
      "cell_type": "code",
      "execution_count": null,
      "metadata": {
        "id": "KG1bc_bkuDh5"
      },
      "outputs": [],
      "source": [
        "def train_model(dl_train, dl_val, idx_fold, model):\n",
        "    optimizer = AdamW(model.parameters(), lr=1e-4)\n",
        "    loss_fn = nn.BCELoss()\n",
        "    lr_scheduler = StepLR(optimizer, step_size=LR_STEP_SIZE, gamma=GAMMA)\n",
        "\n",
        "    loss_train, loss_val = [], []\n",
        "    score_train, score_val = [], []\n",
        "\n",
        "    Y_hat_val = None\n",
        "    best_loss_val = np.inf\n",
        "\n",
        "    epochs = N_EPOCHS\n",
        "    for idx in range(epochs):\n",
        "        loss_train_epoch, loss_val_epoch = [], []\n",
        "        Y_hat_train_epoch, Y_hat_val_epoch = [], []\n",
        "        Y_train_epoch, Y_val_epoch = [], []\n",
        "\n",
        "        for X, Y in tqdm(dl_train, leave=False):\n",
        "            Y_hat, batch_loss = train_batch(X, Y, model, loss_fn, optimizer)\n",
        "            loss_train_epoch.append(batch_loss)\n",
        "            Y_hat_train_epoch.extend(Y_hat)\n",
        "            Y_train_epoch.extend(Y.detach().float().cpu().numpy())\n",
        "\n",
        "        for X, Y in tqdm(dl_val, leave=False):\n",
        "            Y_hat, batch_loss = compute_val_loss(X, Y, model, loss_fn)\n",
        "            loss_val_epoch.append(batch_loss)\n",
        "            Y_hat_val_epoch.extend(Y_hat)\n",
        "            Y_val_epoch.extend(Y.detach().float().cpu().numpy())\n",
        "                \n",
        "        avg_loss_train = np.mean(loss_train_epoch)\n",
        "        avg_loss_val = np.mean(loss_val_epoch)\n",
        "\n",
        "        Y_hat_train_epoch = np.array(Y_hat_train_epoch)\n",
        "        Y_hat_val_epoch = np.array(Y_hat_val_epoch)\n",
        "        Y_thresh_train_epoch = (Y_hat_train_epoch > .2).astype(float)\n",
        "        Y_thresh_val_epoch = (Y_hat_val_epoch > .2).astype(float)\n",
        "        Y_train_epoch = np.array(Y_train_epoch)\n",
        "        Y_val_epoch = np.array(Y_val_epoch)\n",
        "        \n",
        "        score_train_epoch = fbeta_score(Y_train_epoch, Y_thresh_train_epoch, beta=2, average=\"samples\")\n",
        "        score_val_epoch = fbeta_score(Y_val_epoch, Y_thresh_val_epoch, beta=2, average=\"samples\")\n",
        "               \n",
        "        # saving values for debugging\n",
        "        if avg_loss_val < best_loss_val:\n",
        "            best_loss_val = avg_loss_val\n",
        "            Y_hat_val = Y_hat_val_epoch\n",
        "            Y_thresh_val = Y_thresh_val_epoch\n",
        "            Y_val = Y_val_epoch\n",
        "            \n",
        "        loss_train.append(avg_loss_train)\n",
        "        loss_val.append(avg_loss_val)\n",
        "        score_train.append(score_train_epoch)\n",
        "        score_val.append(score_val_epoch)\n",
        "\n",
        "        print(\n",
        "            f\"epoch: {idx}/{epochs} -- train loss: {avg_loss_train}, \" \\\n",
        "            f\"val loss: {avg_loss_val}\" \\\n",
        "            f\" -- train fbeta_score: {score_train_epoch}, \" \\\n",
        "            f\"val fbeta_score: {score_val_epoch}\"\n",
        "        )\n",
        "        \n",
        "        lr_scheduler.step()\n",
        "\n",
        "    train_results = {\n",
        "        \"loss_train\": loss_train,\n",
        "        \"loss_val\": loss_val,\n",
        "        \"score_train\": score_train,\n",
        "        \"score_val\": score_val,\n",
        "        \"Y_hat_val\": Y_hat_val,\n",
        "        \"Y_thresh_val\": Y_thresh_val,\n",
        "        \"Y_val\": Y_val,\n",
        "    }\n",
        "        \n",
        "    torch.save(model, f\"resnet18_fold{idx_fold}.pth\")\n",
        "    pickle.dump(train_results, open(f\"train_results_fold{idx_fold}.pkl\", \"wb\"))"
      ]
    },
    {
      "cell_type": "code",
      "execution_count": null,
      "metadata": {
        "id": "TSIZxLOTuDiH"
      },
      "outputs": [],
      "source": [
        "train_model(dl_train, dl_val, 0)"
      ]
    },
    {
      "cell_type": "code",
      "execution_count": null,
      "metadata": {
        "id": "q6oXubtblJ__"
      },
      "outputs": [],
      "source": [
        "%ls"
      ]
    },
    {
      "cell_type": "code",
      "execution_count": null,
      "metadata": {
        "id": "MD0eTOV_uDiI"
      },
      "outputs": [],
      "source": [
        "#model = torch.load(\"resnet18_fold0.pth\")\n",
        "#train_results = pickle.load(open(\"train_results_fold0.pkl\", \"rb\"))"
      ]
    },
    {
      "cell_type": "code",
      "execution_count": null,
      "metadata": {
        "id": "_3M0udvluDiK"
      },
      "outputs": [],
      "source": [
        "oss_train = train_results[\"loss_train\"]\n",
        "loss_val = train_results[\"loss_val\"]\n",
        "score_train = train_results[\"score_train\"]\n",
        "score_val = train_results[\"score_val\"]\n",
        "\n",
        "fig = make_subplots(rows=1, cols=2, subplot_titles=(\"Loss\", \"Fbeta scores\"))\n",
        "fig.add_trace(\n",
        "    go.Scatter(\n",
        "        x=list(range(len(loss_train))),\n",
        "        y=loss_train,\n",
        "        name=\"loss_train\",\n",
        "    ),\n",
        "    row=1, col=1\n",
        ")\n",
        "fig.add_trace(\n",
        "    go.Scatter(\n",
        "        x=list(range(len(loss_val))),\n",
        "        y=loss_val,\n",
        "        name=\"loss_val\",\n",
        "    ),\n",
        "    row=1, col=1\n",
        ")\n",
        "fig.add_trace(\n",
        "    go.Scatter(\n",
        "        x=list(range(len(score_train))),\n",
        "        y=score_train,\n",
        "        name=\"score_train\",\n",
        "    ),\n",
        "    row=1, col=2\n",
        ")\n",
        "fig.add_trace(\n",
        "    go.Scatter(\n",
        "        x=list(range(len(score_val))),\n",
        "        y=score_val,\n",
        "        name=\"score_val\",\n",
        "    ),\n",
        "    row=1, col=2\n",
        ")\n",
        "fig.show()"
      ]
    },
    {
      "cell_type": "code",
      "execution_count": null,
      "metadata": {
        "id": "KET5kS_CuDiM"
      },
      "outputs": [],
      "source": [
        "Y_hat_val = np.array(train_results[\"Y_hat_val\"])\n",
        "Y_val = np.array(train_results[\"Y_val\"])\n",
        "\n",
        "pos_probas, neg_probas = [], []\n",
        "for class_, idx in encoder._cached_dict.items():\n",
        "    pos_probas.append(Y_hat_val[np.where(Y_val[:, idx] != 0), idx].mean())\n",
        "    neg_probas.append(Y_hat_val[np.where(Y_val[:, idx] == 0), idx].mean())\n",
        "go.Figure([\n",
        "    go.Bar(x=list(encoder._cached_dict), y=pos_probas, name=\"Y_hat proba | Y = 1\"),\n",
        "    go.Bar(x=list(encoder._cached_dict), y=neg_probas, name=\"Y_hat proba | Y = 0\")\n",
        "]).show()"
      ]
    },
    {
      "cell_type": "code",
      "execution_count": null,
      "metadata": {
        "id": "Caby0A04uDiQ"
      },
      "outputs": [],
      "source": [
        "\n",
        "\n",
        "def find_best_thresholds(Y_hat, Y):\n",
        "    N_tags = Y.shape[1]\n",
        "    best_threshs = [0.2] * N_tags\n",
        "    resolution = 100\n",
        "    for jdx in tqdm(range(N_tags)):\n",
        "        best_score = 0\n",
        "        #threshs = np.zeros_like(best_threshs)\n",
        "        threshs = best_threshs.copy()\n",
        "        for kdx in range(resolution):\n",
        "            kdx /= resolution\n",
        "            threshs[jdx] = kdx\n",
        "            Y_hat_thresh = (Y_hat > threshs).astype(float)\n",
        "            score = fbeta_score(Y, Y_hat_thresh, beta=2, average=\"samples\")\n",
        "            if score > best_score:\n",
        "                best_score = score\n",
        "                best_threshs[jdx] = kdx\n",
        "    \n",
        "    global_best_score = fbeta_score(Y, (Y_hat > best_threshs).astype(float), beta=2, average=\"samples\")\n",
        "    print(f\"threshs: {best_threshs} -- best score: {global_best_score}\")\n",
        "    \n",
        "    return best_threshs\n",
        "\n"
      ]
    },
    {
      "cell_type": "code",
      "execution_count": null,
      "metadata": {
        "id": "Dh9Hm0RquDiS"
      },
      "outputs": [],
      "source": [
        "threshs = find_best_thresholds(Y_hat_val, Y_val)"
      ]
    },
    {
      "cell_type": "code",
      "execution_count": null,
      "metadata": {
        "id": "2vMVucPcuDiT"
      },
      "outputs": [],
      "source": [
        "class_scores = {}\n",
        "classes = encoder.classes_\n",
        "for jdx in range(Y_val.shape[1]):\n",
        "    y_val = Y_val[:, jdx].ravel()\n",
        "    y_hat_val = (Y_hat_val[:, jdx].ravel() > threshs[jdx]).astype(float)\n",
        "    score = fbeta_score(y_val, y_hat_val, beta=2)\n",
        "    class_scores[classes[jdx]] = round(score, 4)\n",
        "\n",
        "df_score = pd.DataFrame(dict(\n",
        "    label=list(class_scores.keys()), score=list(class_scores.values()),\n",
        ")).sort_values(\"score\", ascending=False)\n",
        "fig = px.bar(df_score, x=\"label\", y=\"score\", color=\"score\")\n",
        "fig.show()"
      ]
    },
    {
      "cell_type": "code",
      "execution_count": null,
      "metadata": {
        "id": "7XW9Pmf_uDiV"
      },
      "outputs": [],
      "source": [
        "fig = make_subplots(cols=5, rows=4)\n",
        "for jdx in range(Y_val.shape[1]):\n",
        "    y_val = Y_val[:, jdx].ravel()\n",
        "    y_hat_val = (Y_hat_val[:, jdx].ravel() > threshs[jdx]).astype(float)\n",
        "    tn, fp, fn, tp = confusion_matrix(y_val, y_hat_val).ravel()\n",
        "    mat = np.array([[fn, tn], [tp, fp]])\n",
        "    col = jdx // 4+1\n",
        "    row = jdx % 4+1\n",
        "    fig.add_trace(\n",
        "        go.Heatmap(\n",
        "            z=mat, text=[[f\"fn: {fn}\", f\"tn: {tn}\"], [f\"tp: {tp}\", f\"fp: {fp}\"]], \n",
        "            texttemplate=\"%{text}\", colorscale='Viridis', name=encoder.classes_[jdx],\n",
        "            showscale=False\n",
        "        ),\n",
        "        col=col, row=row, \n",
        "    )\n",
        "    fig.update_xaxes(title=encoder.classes_[jdx], showticklabels=False, row=row, col=col)\n",
        "    fig.update_yaxes(showticklabels=False, row=row, col=col)\n",
        "    \n",
        "\n",
        "fig.update_layout(\n",
        "    width=1200, height=800, title=\"Confusion matrices\", \n",
        ")\n",
        "fig.show()"
      ]
    },
    {
      "cell_type": "code",
      "execution_count": null,
      "metadata": {
        "id": "kCy0FH4EuDiZ"
      },
      "outputs": [],
      "source": [
        "!echo $(ls ../input/planets-dataset/planet/planet/test-jpg | wc -l) + $(ls ../input/planets-dataset/test-jpg-additional/test-jpg-additional | wc -l)"
      ]
    },
    {
      "cell_type": "code",
      "execution_count": null,
      "metadata": {
        "id": "GJoGPYgauDic"
      },
      "outputs": [],
      "source": [
        "def get_test_data(idx_tta):\n",
        "    path_test_table = \"../input/planets-dataset/planet/planet\"\n",
        "    path_test_file_1 = \"../input/planets-dataset/planet/planet/test-jpg\"\n",
        "    path_test_file_2 = \"../input/planets-dataset/test-jpg-additional/test-jpg-additional\"\n",
        "    file_count = len(os.listdir(path_test_file_1)) + len(os.listdir(path_test_file_2))\n",
        "    df_test = pd.read_csv(os.path.join(path_test_table, \"sample_submission.csv\"))\n",
        "    \n",
        "    assert df_test.shape[0] == file_count # sanity check\n",
        "    \n",
        "    ohe_tags_test = np.zeros((df_test.shape[0], 17))\n",
        "    _, transform_val = get_transforms()\n",
        "    ds_test = AmazonDataset(\n",
        "        df_test, ohe_tags_test, transform_val, path=[path_test_file_1, path_test_file_2],\n",
        "        is_train=False, idx_tta=idx_tta\n",
        "    )\n",
        "    dl_test = DataLoader(\n",
        "        ds_test, shuffle=False, batch_size=32, collate_fn=ds_test.collate_fn\n",
        "    )\n",
        "    \n",
        "    return dl_test, df_test"
      ]
    },
    {
      "cell_type": "code",
      "execution_count": null,
      "metadata": {
        "id": "Q8fqPi2muDie"
      },
      "outputs": [],
      "source": [
        "@torch.no_grad()\n",
        "def batch_predict(model, X):\n",
        "    model.eval()\n",
        "    Y = model(X)\n",
        "    return Y.detach().float().cpu().numpy()"
      ]
    },
    {
      "cell_type": "code",
      "execution_count": null,
      "metadata": {
        "id": "51YOt1XsuDif"
      },
      "outputs": [],
      "source": [
        "Y_hat_test = []\n",
        "for idx_tta in range(6):\n",
        "    Y_hat_test_tta = []\n",
        "    dl_test, df_test = get_test_data(idx_tta)\n",
        "    for X, _ in tqdm(dl_test):\n",
        "        Y_hat_test_batch = batch_predict(model, X)\n",
        "        Y_hat_test_tta.extend(Y_hat_test_batch)\n",
        "    Y_hat_test.append(Y_hat_test_tta)\n",
        "Y_hat_test = np.mean(np.array(Y_hat_test), axis=0)\n",
        "Y_hat_test = (Y_hat_test > threshs).astype(float)"
      ]
    },
    {
      "cell_type": "code",
      "execution_count": null,
      "metadata": {
        "id": "vmDYnAwPuDim"
      },
      "outputs": [],
      "source": [
        "Y_hat_test_inv = encoder.inverse_transform(Y_hat_test)\n",
        "test_tags = []\n",
        "for row in Y_hat_test_inv:\n",
        "    tags = \" \".join(row)\n",
        "    test_tags.append(tags)\n",
        "\n",
        "df_test[\"tags\"] = test_tags\n",
        "df_test.to_csv(\"my_sample_submission.csv\", index=False)"
      ]
    },
    {
      "cell_type": "code",
      "execution_count": null,
      "metadata": {
        "id": "mRBcPu-s3t-F"
      },
      "outputs": [],
      "source": []
    }
  ],
  "metadata": {
    "accelerator": "GPU",
    "colab": {
      "collapsed_sections": [
        "7R7FgPDy0Lpi",
        "ddEsH8tA0Lp3",
        "K1yn3eXP0LqD",
        "1BjxIOAR0LqG"
      ],
      "include_colab_link": true,
      "provenance": []
    },
    "kernelspec": {
      "display_name": "Python 3 (ipykernel)",
      "language": "python",
      "name": "python3"
    },
    "language_info": {
      "codemirror_mode": {
        "name": "ipython",
        "version": 3
      },
      "file_extension": ".py",
      "mimetype": "text/x-python",
      "name": "python",
      "nbconvert_exporter": "python",
      "pygments_lexer": "ipython3",
      "version": "3.10.7"
    },
    "vscode": {
      "interpreter": {
        "hash": "e7370f93d1d0cde622a1f8e1c04877d8463912d04d973331ad4851f04de6915a"
      }
    },
    "widgets": {
      "application/vnd.jupyter.widget-state+json": {
        "066c3cd1aab94872b9939cdf2ae95cdd": {
          "model_module": "@jupyter-widgets/base",
          "model_module_version": "1.2.0",
          "model_name": "LayoutModel",
          "state": {
            "_model_module": "@jupyter-widgets/base",
            "_model_module_version": "1.2.0",
            "_model_name": "LayoutModel",
            "_view_count": null,
            "_view_module": "@jupyter-widgets/base",
            "_view_module_version": "1.2.0",
            "_view_name": "LayoutView",
            "align_content": null,
            "align_items": null,
            "align_self": null,
            "border": null,
            "bottom": null,
            "display": null,
            "flex": null,
            "flex_flow": null,
            "grid_area": null,
            "grid_auto_columns": null,
            "grid_auto_flow": null,
            "grid_auto_rows": null,
            "grid_column": null,
            "grid_gap": null,
            "grid_row": null,
            "grid_template_areas": null,
            "grid_template_columns": null,
            "grid_template_rows": null,
            "height": null,
            "justify_content": null,
            "justify_items": null,
            "left": null,
            "margin": null,
            "max_height": null,
            "max_width": null,
            "min_height": null,
            "min_width": null,
            "object_fit": null,
            "object_position": null,
            "order": null,
            "overflow": null,
            "overflow_x": null,
            "overflow_y": null,
            "padding": null,
            "right": null,
            "top": null,
            "visibility": null,
            "width": null
          }
        },
        "161dd1318b5d474bbdffbc60c2ac09b4": {
          "model_module": "@jupyter-widgets/controls",
          "model_module_version": "1.5.0",
          "model_name": "ProgressStyleModel",
          "state": {
            "_model_module": "@jupyter-widgets/controls",
            "_model_module_version": "1.5.0",
            "_model_name": "ProgressStyleModel",
            "_view_count": null,
            "_view_module": "@jupyter-widgets/base",
            "_view_module_version": "1.2.0",
            "_view_name": "StyleView",
            "bar_color": null,
            "description_width": ""
          }
        },
        "16a575940ba544199242be978ec732d3": {
          "model_module": "@jupyter-widgets/controls",
          "model_module_version": "1.5.0",
          "model_name": "HTMLModel",
          "state": {
            "_dom_classes": [],
            "_model_module": "@jupyter-widgets/controls",
            "_model_module_version": "1.5.0",
            "_model_name": "HTMLModel",
            "_view_count": null,
            "_view_module": "@jupyter-widgets/controls",
            "_view_module_version": "1.5.0",
            "_view_name": "HTMLView",
            "description": "",
            "description_tooltip": null,
            "layout": "IPY_MODEL_066c3cd1aab94872b9939cdf2ae95cdd",
            "placeholder": "​",
            "style": "IPY_MODEL_d87f634527e04c7f83ad0291ea06d3b0",
            "value": "  1%"
          }
        },
        "5fcebf54e95f41078ba43cdd497b8eb9": {
          "model_module": "@jupyter-widgets/base",
          "model_module_version": "1.2.0",
          "model_name": "LayoutModel",
          "state": {
            "_model_module": "@jupyter-widgets/base",
            "_model_module_version": "1.2.0",
            "_model_name": "LayoutModel",
            "_view_count": null,
            "_view_module": "@jupyter-widgets/base",
            "_view_module_version": "1.2.0",
            "_view_name": "LayoutView",
            "align_content": null,
            "align_items": null,
            "align_self": null,
            "border": null,
            "bottom": null,
            "display": null,
            "flex": null,
            "flex_flow": null,
            "grid_area": null,
            "grid_auto_columns": null,
            "grid_auto_flow": null,
            "grid_auto_rows": null,
            "grid_column": null,
            "grid_gap": null,
            "grid_row": null,
            "grid_template_areas": null,
            "grid_template_columns": null,
            "grid_template_rows": null,
            "height": null,
            "justify_content": null,
            "justify_items": null,
            "left": null,
            "margin": null,
            "max_height": null,
            "max_width": null,
            "min_height": null,
            "min_width": null,
            "object_fit": null,
            "object_position": null,
            "order": null,
            "overflow": null,
            "overflow_x": null,
            "overflow_y": null,
            "padding": null,
            "right": null,
            "top": null,
            "visibility": null,
            "width": null
          }
        },
        "73518f4594b549968bbe81c8450587d3": {
          "model_module": "@jupyter-widgets/base",
          "model_module_version": "1.2.0",
          "model_name": "LayoutModel",
          "state": {
            "_model_module": "@jupyter-widgets/base",
            "_model_module_version": "1.2.0",
            "_model_name": "LayoutModel",
            "_view_count": null,
            "_view_module": "@jupyter-widgets/base",
            "_view_module_version": "1.2.0",
            "_view_name": "LayoutView",
            "align_content": null,
            "align_items": null,
            "align_self": null,
            "border": null,
            "bottom": null,
            "display": null,
            "flex": null,
            "flex_flow": null,
            "grid_area": null,
            "grid_auto_columns": null,
            "grid_auto_flow": null,
            "grid_auto_rows": null,
            "grid_column": null,
            "grid_gap": null,
            "grid_row": null,
            "grid_template_areas": null,
            "grid_template_columns": null,
            "grid_template_rows": null,
            "height": null,
            "justify_content": null,
            "justify_items": null,
            "left": null,
            "margin": null,
            "max_height": null,
            "max_width": null,
            "min_height": null,
            "min_width": null,
            "object_fit": null,
            "object_position": null,
            "order": null,
            "overflow": null,
            "overflow_x": null,
            "overflow_y": null,
            "padding": null,
            "right": null,
            "top": null,
            "visibility": null,
            "width": null
          }
        },
        "8830e52764ee45ea83307286b99590b8": {
          "model_module": "@jupyter-widgets/controls",
          "model_module_version": "1.5.0",
          "model_name": "FloatProgressModel",
          "state": {
            "_dom_classes": [],
            "_model_module": "@jupyter-widgets/controls",
            "_model_module_version": "1.5.0",
            "_model_name": "FloatProgressModel",
            "_view_count": null,
            "_view_module": "@jupyter-widgets/controls",
            "_view_module_version": "1.5.0",
            "_view_name": "ProgressView",
            "bar_style": "danger",
            "description": "",
            "description_tooltip": null,
            "layout": "IPY_MODEL_73518f4594b549968bbe81c8450587d3",
            "max": 1012,
            "min": 0,
            "orientation": "horizontal",
            "style": "IPY_MODEL_161dd1318b5d474bbdffbc60c2ac09b4",
            "value": 13
          }
        },
        "8b82a8daa30f40ae95fc36ecac64c05f": {
          "model_module": "@jupyter-widgets/controls",
          "model_module_version": "1.5.0",
          "model_name": "HBoxModel",
          "state": {
            "_dom_classes": [],
            "_model_module": "@jupyter-widgets/controls",
            "_model_module_version": "1.5.0",
            "_model_name": "HBoxModel",
            "_view_count": null,
            "_view_module": "@jupyter-widgets/controls",
            "_view_module_version": "1.5.0",
            "_view_name": "HBoxView",
            "box_style": "",
            "children": [
              "IPY_MODEL_16a575940ba544199242be978ec732d3",
              "IPY_MODEL_8830e52764ee45ea83307286b99590b8",
              "IPY_MODEL_c53b26949b7148dbbb45bfde0bb8f12e"
            ],
            "layout": "IPY_MODEL_a2df47efe85a4948a34b28ac94255e29"
          }
        },
        "a2df47efe85a4948a34b28ac94255e29": {
          "model_module": "@jupyter-widgets/base",
          "model_module_version": "1.2.0",
          "model_name": "LayoutModel",
          "state": {
            "_model_module": "@jupyter-widgets/base",
            "_model_module_version": "1.2.0",
            "_model_name": "LayoutModel",
            "_view_count": null,
            "_view_module": "@jupyter-widgets/base",
            "_view_module_version": "1.2.0",
            "_view_name": "LayoutView",
            "align_content": null,
            "align_items": null,
            "align_self": null,
            "border": null,
            "bottom": null,
            "display": null,
            "flex": null,
            "flex_flow": null,
            "grid_area": null,
            "grid_auto_columns": null,
            "grid_auto_flow": null,
            "grid_auto_rows": null,
            "grid_column": null,
            "grid_gap": null,
            "grid_row": null,
            "grid_template_areas": null,
            "grid_template_columns": null,
            "grid_template_rows": null,
            "height": null,
            "justify_content": null,
            "justify_items": null,
            "left": null,
            "margin": null,
            "max_height": null,
            "max_width": null,
            "min_height": null,
            "min_width": null,
            "object_fit": null,
            "object_position": null,
            "order": null,
            "overflow": null,
            "overflow_x": null,
            "overflow_y": null,
            "padding": null,
            "right": null,
            "top": null,
            "visibility": null,
            "width": null
          }
        },
        "c53b26949b7148dbbb45bfde0bb8f12e": {
          "model_module": "@jupyter-widgets/controls",
          "model_module_version": "1.5.0",
          "model_name": "HTMLModel",
          "state": {
            "_dom_classes": [],
            "_model_module": "@jupyter-widgets/controls",
            "_model_module_version": "1.5.0",
            "_model_name": "HTMLModel",
            "_view_count": null,
            "_view_module": "@jupyter-widgets/controls",
            "_view_module_version": "1.5.0",
            "_view_name": "HTMLView",
            "description": "",
            "description_tooltip": null,
            "layout": "IPY_MODEL_5fcebf54e95f41078ba43cdd497b8eb9",
            "placeholder": "​",
            "style": "IPY_MODEL_e4cb2348bb044b668e4a7dba4f31b8db",
            "value": " 13/1012 [00:16&lt;18:48,  1.13s/it]"
          }
        },
        "d87f634527e04c7f83ad0291ea06d3b0": {
          "model_module": "@jupyter-widgets/controls",
          "model_module_version": "1.5.0",
          "model_name": "DescriptionStyleModel",
          "state": {
            "_model_module": "@jupyter-widgets/controls",
            "_model_module_version": "1.5.0",
            "_model_name": "DescriptionStyleModel",
            "_view_count": null,
            "_view_module": "@jupyter-widgets/base",
            "_view_module_version": "1.2.0",
            "_view_name": "StyleView",
            "description_width": ""
          }
        },
        "e4cb2348bb044b668e4a7dba4f31b8db": {
          "model_module": "@jupyter-widgets/controls",
          "model_module_version": "1.5.0",
          "model_name": "DescriptionStyleModel",
          "state": {
            "_model_module": "@jupyter-widgets/controls",
            "_model_module_version": "1.5.0",
            "_model_name": "DescriptionStyleModel",
            "_view_count": null,
            "_view_module": "@jupyter-widgets/base",
            "_view_module_version": "1.2.0",
            "_view_name": "StyleView",
            "description_width": ""
          }
        }
      }
    }
  },
  "nbformat": 4,
  "nbformat_minor": 0
}
